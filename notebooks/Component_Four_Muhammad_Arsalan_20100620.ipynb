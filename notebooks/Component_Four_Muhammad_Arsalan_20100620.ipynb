{
 "cells": [
  {
   "cell_type": "code",
   "execution_count": 1,
   "metadata": {},
   "outputs": [],
   "source": [
    "import pandas as pd\n",
    "import numpy as np\n",
    "import matplotlib.pyplot as plt\n",
    "# %matplotlib inline\n",
    "import seaborn as sns\n",
    "sns.set()\n",
    "from sklearn import metrics, preprocessing, feature_extraction, dummy, neighbors,linear_model,svm,model_selection,feature_selection\n",
    "from sklearn.metrics import accuracy_score\n",
    "from sklearn.model_selection import train_test_split\n",
    "from sklearn.naive_bayes import MultinomialNB,GaussianNB,BernoulliNB\n",
    "from mlxtend.feature_selection import SequentialFeatureSelector as SFS\n",
    "import warnings\n",
    "warnings.filterwarnings('ignore')\n",
    "import os"
   ]
  },
  {
   "cell_type": "code",
   "execution_count": 2,
   "metadata": {},
   "outputs": [
    {
     "name": "stdout",
     "output_type": "stream",
     "text": [
      "C:\\Users\\arsal\\opencv\\Scripts\\OFSTED\\notebooks\n"
     ]
    }
   ],
   "source": [
    "print(os.getcwd())"
   ]
  },
  {
   "cell_type": "code",
   "execution_count": 3,
   "metadata": {},
   "outputs": [],
   "source": [
    "os.chdir('../data/processed')"
   ]
  },
  {
   "cell_type": "code",
   "execution_count": 4,
   "metadata": {},
   "outputs": [],
   "source": [
    "combined_ofsted_df = pd.read_csv(os.getcwd() + '/ComponentOneData.csv')"
   ]
  },
  {
   "cell_type": "markdown",
   "metadata": {},
   "source": [
    "# Basic Machine Learning Tasks"
   ]
  },
  {
   "cell_type": "markdown",
   "metadata": {},
   "source": [
    "1. When we look at the different values in the Rating, we find two problems that will make this task harder. Our first task is to make the problem a little easier. Remove all the schools with a Rating of “Unknown”. Combine all the ratings that aren’t “Outstanding” or “Good” into a single rating of “Not Good”."
   ]
  },
  {
   "cell_type": "code",
   "execution_count": 5,
   "metadata": {},
   "outputs": [
    {
     "data": {
      "text/plain": [
       "array(['Good', 'Outstanding', 'Not Good'], dtype=object)"
      ]
     },
     "execution_count": 5,
     "metadata": {},
     "output_type": "execute_result"
    }
   ],
   "source": [
    "combined_ofsted_df = combined_ofsted_df.loc[combined_ofsted_df['Rating'] != 'Unknown']\n",
    "combined_ofsted_df.loc[(combined_ofsted_df['Rating'].str.startswith('Requires Improvement') == True) |\n",
    "                       (combined_ofsted_df['Rating'].str.startswith('Inadequate') == True) |\n",
    "                       (combined_ofsted_df['Rating'].str.startswith('Satisfactory') == True), 'Rating'] = 'Not Good'\n",
    "combined_ofsted_df['Rating'].unique()"
   ]
  },
  {
   "cell_type": "markdown",
   "metadata": {},
   "source": [
    "2. Estimate the baseline accuracy we could expect for this problem. Explain the theoretical underpinnings of your baseline."
   ]
  },
  {
   "cell_type": "code",
   "execution_count": 6,
   "metadata": {},
   "outputs": [
    {
     "data": {
      "text/plain": [
       "Good           0.593021\n",
       "Not Good       0.225082\n",
       "Outstanding    0.181897\n",
       "Name: Rating, dtype: float64"
      ]
     },
     "execution_count": 6,
     "metadata": {},
     "output_type": "execute_result"
    }
   ],
   "source": [
    "combined_ofsted_df['Rating'].value_counts(normalize=True)\n",
    "\n",
    "## This tells us that in the data, 59.3% of the examples are Good Rating. \n",
    "## We can get this level of accuracy by just always predicting \"Good\"\n",
    "## Other qualities are going to be difficult to predict, especially Outstanding which barely appears."
   ]
  },
  {
   "cell_type": "code",
   "execution_count": 7,
   "metadata": {},
   "outputs": [
    {
     "data": {
      "text/plain": [
       "Good           2719\n",
       "Not Good       1032\n",
       "Outstanding     834\n",
       "Name: Rating, dtype: int64"
      ]
     },
     "execution_count": 7,
     "metadata": {},
     "output_type": "execute_result"
    }
   ],
   "source": [
    "combined_ofsted_df['Rating'].value_counts()\n",
    "\n",
    "## Only 834 examples with Outstanding Rating"
   ]
  },
  {
   "cell_type": "markdown",
   "metadata": {},
   "source": [
    "# Baseline Modelling"
   ]
  },
  {
   "cell_type": "code",
   "execution_count": 8,
   "metadata": {},
   "outputs": [
    {
     "data": {
      "text/plain": [
       "0.593020719738277"
      ]
     },
     "execution_count": 8,
     "metadata": {},
     "output_type": "execute_result"
    }
   ],
   "source": [
    "len(combined_ofsted_df['Rating'][combined_ofsted_df['Rating']=='Good'])/(len(combined_ofsted_df))\n",
    "\n",
    "## Any model that gets less than 59.3% accuracy is worse than guessing"
   ]
  },
  {
   "cell_type": "markdown",
   "metadata": {},
   "source": [
    "3. Estimate the accuracy we can achieve with the classifiers we have discussed in the unit (K-Nearest Neighbour, Logistic Regression and Naïve Bayes), using as many features as you can without making changes to those features. (Remember to use validation)"
   ]
  },
  {
   "cell_type": "code",
   "execution_count": 9,
   "metadata": {},
   "outputs": [],
   "source": [
    "selectedFeatures = combined_ofsted_df.loc[:,(combined_ofsted_df.dtypes == float)]"
   ]
  },
  {
   "cell_type": "code",
   "execution_count": 10,
   "metadata": {},
   "outputs": [],
   "source": [
    "X = selectedFeatures.values\n",
    "y = combined_ofsted_df['Rating'].values.reshape(-1,1)"
   ]
  },
  {
   "cell_type": "markdown",
   "metadata": {},
   "source": [
    "**Baseline Modelling**"
   ]
  },
  {
   "cell_type": "code",
   "execution_count": 11,
   "metadata": {},
   "outputs": [
    {
     "data": {
      "text/html": [
       "<div>\n",
       "<style scoped>\n",
       "    .dataframe tbody tr th:only-of-type {\n",
       "        vertical-align: middle;\n",
       "    }\n",
       "\n",
       "    .dataframe tbody tr th {\n",
       "        vertical-align: top;\n",
       "    }\n",
       "\n",
       "    .dataframe thead th {\n",
       "        text-align: right;\n",
       "    }\n",
       "</style>\n",
       "<table border=\"1\" class=\"dataframe\">\n",
       "  <thead>\n",
       "    <tr style=\"text-align: right;\">\n",
       "      <th></th>\n",
       "      <th>model</th>\n",
       "      <th>baseline</th>\n",
       "    </tr>\n",
       "  </thead>\n",
       "  <tbody>\n",
       "    <tr>\n",
       "      <th>1</th>\n",
       "      <td>Logistic</td>\n",
       "      <td>0.603272</td>\n",
       "    </tr>\n",
       "    <tr>\n",
       "      <th>3</th>\n",
       "      <td>Non-Linear SVM</td>\n",
       "      <td>0.593675</td>\n",
       "    </tr>\n",
       "    <tr>\n",
       "      <th>6</th>\n",
       "      <td>BernoulliNB</td>\n",
       "      <td>0.589095</td>\n",
       "    </tr>\n",
       "    <tr>\n",
       "      <th>2</th>\n",
       "      <td>Linear SVM</td>\n",
       "      <td>0.580807</td>\n",
       "    </tr>\n",
       "    <tr>\n",
       "      <th>0</th>\n",
       "      <td>KNN</td>\n",
       "      <td>0.568593</td>\n",
       "    </tr>\n",
       "    <tr>\n",
       "      <th>5</th>\n",
       "      <td>GaussianNB</td>\n",
       "      <td>0.564449</td>\n",
       "    </tr>\n",
       "    <tr>\n",
       "      <th>4</th>\n",
       "      <td>MultinomialNB</td>\n",
       "      <td>0.296183</td>\n",
       "    </tr>\n",
       "  </tbody>\n",
       "</table>\n",
       "</div>"
      ],
      "text/plain": [
       "            model  baseline\n",
       "1        Logistic  0.603272\n",
       "3  Non-Linear SVM  0.593675\n",
       "6     BernoulliNB  0.589095\n",
       "2      Linear SVM  0.580807\n",
       "0             KNN  0.568593\n",
       "5      GaussianNB  0.564449\n",
       "4   MultinomialNB  0.296183"
      ]
     },
     "execution_count": 11,
     "metadata": {},
     "output_type": "execute_result"
    }
   ],
   "source": [
    "names = ['KNN','Logistic','Linear SVM','Non-Linear SVM','MultinomialNB','GaussianNB','BernoulliNB']\n",
    "models = [neighbors.KNeighborsClassifier(n_neighbors = 7, weights = 'distance', metric = 'minkowski', p=2), \n",
    "          linear_model.LogisticRegression(solver='lbfgs', multi_class='auto', max_iter=9999),\n",
    "          svm.LinearSVC(max_iter=9999),\n",
    "          svm.SVC(kernel='rbf', gamma='scale', max_iter=9999),\n",
    "         MultinomialNB(),\n",
    "         GaussianNB(),\n",
    "         BernoulliNB()]\n",
    "accuracies = []\n",
    "cross_validator = model_selection.KFold(n_splits=5, shuffle=True, random_state=200)\n",
    "for model in models:\n",
    "    scores = model_selection.cross_val_score(estimator=model, X=X, y=y, cv=cross_validator)\n",
    "    accuracies.append(np.mean(scores))\n",
    "results = pd.DataFrame({'model':names, 'baseline':accuracies})\n",
    "results.sort_values(by='baseline', ascending=False)[['model','baseline']]\n",
    "\n",
    "## Logistic Regression performed a little better than the baseline\n",
    "## Non-Linear SVM is about the same as the baseline\n",
    "## Rest all are worse than the baseline\n",
    "## In different types of Naive Bayes, MultinomialNB is worst here. "
   ]
  },
  {
   "cell_type": "markdown",
   "metadata": {},
   "source": [
    "4. Choose one of the classifiers and generate a fully labelled confusion matrix, similar to the one below:"
   ]
  },
  {
   "cell_type": "code",
   "execution_count": 12,
   "metadata": {},
   "outputs": [
    {
     "data": {
      "text/plain": [
       "0.6032715376226827"
      ]
     },
     "execution_count": 12,
     "metadata": {},
     "output_type": "execute_result"
    }
   ],
   "source": [
    "clf = linear_model.LogisticRegression(solver='lbfgs', multi_class='auto', max_iter=9999)\n",
    "cross_validator = model_selection.KFold(n_splits=5, shuffle=True, random_state=200)\n",
    "scores = model_selection.cross_val_score(estimator=clf, X=X, y=y, cv=cross_validator)\n",
    "y_pred = model_selection.cross_val_predict(estimator=clf, X=X, y=y, cv=cross_validator)\n",
    "accuracy_score(y, y_pred)"
   ]
  },
  {
   "cell_type": "code",
   "execution_count": 13,
   "metadata": {},
   "outputs": [
    {
     "data": {
      "image/png": "[encoded data removed]",
      "text/plain": [
       "<Figure size 576x288 with 1 Axes>"
      ]
     },
     "metadata": {},
     "output_type": "display_data"
    }
   ],
   "source": [
    "# metrics\n",
    "cm = metrics.confusion_matrix(y_pred, y)\n",
    "\n",
    "# heatmap\n",
    "fig, ax = plt.subplots(figsize = (8,4))\n",
    "sns.heatmap(cm, annot=True, fmt='d', cmap=\"Greys\",square=True,linewidth=0.7,linecolor='black', ax=ax, cbar=False)\n",
    "\n",
    "\n",
    "# ticks\n",
    "ticks_labels = np.unique(y).tolist()\n",
    "plt.xticks(np.arange(len(ticks_labels)) + .5, labels=ticks_labels)\n",
    "plt.yticks(np.arange(len(ticks_labels)) + .5, labels=ticks_labels)\n",
    "\n",
    "# axis labels\n",
    "plt.xlabel('Predicted Rating')\n",
    "plt.ylabel('True Rating')\n",
    "\n",
    "plt.show()"
   ]
  },
  {
   "cell_type": "markdown",
   "metadata": {},
   "source": [
    "# Feature Engineering Tasks\n",
    "\n",
    "With the baseline accuracy achieved, we can try and improve the accuracy of our models. The first step is to incorporate more of the available features."
   ]
  },
  {
   "cell_type": "markdown",
   "metadata": {},
   "source": [
    "5. You may have noticed that some of the classifiers do not work with the Progress 8 features because they contain negative values. Propose and implement a simple solution to this problem."
   ]
  },
  {
   "cell_type": "code",
   "execution_count": 14,
   "metadata": {},
   "outputs": [],
   "source": [
    "prog8 = []\n",
    "for col in combined_ofsted_df.columns: \n",
    "    if '8' in col:\n",
    "        prog8.append(col)        "
   ]
  },
  {
   "cell_type": "code",
   "execution_count": 15,
   "metadata": {},
   "outputs": [],
   "source": [
    "##The progress 8 fatures also have non numeric values so, first I'm going convert these value wih mean \n",
    "##and than going to check the element is less than zero, if yes then assign zero in this element.\n",
    "\n",
    "prog8Features = combined_ofsted_df[prog8]\n",
    "for col in prog8Features.columns:\n",
    "    mean = round(prog8Features[col].transform(pd.to_numeric, errors='coerce').mean(),1)\n",
    "    dictMean = {'NE': mean, 'SUPP': mean, 'NP': mean, 'LOWCOV': mean,'SP': mean}\n",
    "    prog8Features[col] = prog8Features[col].astype(object).replace(dictMean)\n",
    "    prog8Features[col] = prog8Features[col].astype(float)\n",
    "    if (prog8Features[col].values < 0).any():\n",
    "        prog8Features[col].loc[prog8Features[col] < 0] = 0"
   ]
  },
  {
   "cell_type": "markdown",
   "metadata": {},
   "source": [
    "6. Apply an appropriate encoding scheme to make the Gender attribute usable by the classification algorithms. Write a short paragraph outlining two options and justifying your choice."
   ]
  },
  {
   "cell_type": "markdown",
   "metadata": {},
   "source": [
    "1. For Random encoding, we can use LabelEncoder\n",
    "\n",
    "2. For Ranking encoder, we could use OrdinalEncoder\n",
    "\n",
    "I'm going to use OrdinalEncoder so, I can set Ranking as I want."
   ]
  },
  {
   "cell_type": "code",
   "execution_count": 16,
   "metadata": {},
   "outputs": [
    {
     "data": {
      "text/plain": [
       "array([2., 0., 1.])"
      ]
     },
     "execution_count": 16,
     "metadata": {},
     "output_type": "execute_result"
    }
   ],
   "source": [
    "ranks = [['Girls', 'Boys','Mixed']]\n",
    "oe = preprocessing.OrdinalEncoder(categories = ranks)\n",
    "combined_ofsted_df['GENDER_OrdEnc']  = oe.fit_transform(combined_ofsted_df['GENDER'].values.reshape(-1,1))\n",
    "combined_ofsted_df['GENDER_OrdEnc'].unique()"
   ]
  },
  {
   "cell_type": "markdown",
   "metadata": {},
   "source": [
    "7. For the “RELCHAR” feature, combine all religious options into one value and all other options into a different value and apply an appropriate encoding scheme. Explain why it is sensible to combine these values."
   ]
  },
  {
   "cell_type": "markdown",
   "metadata": {},
   "source": [
    "Combining these values will be helpful to assign one category. It will make the hierarchy of different religions."
   ]
  },
  {
   "cell_type": "code",
   "execution_count": 17,
   "metadata": {},
   "outputs": [],
   "source": [
    "combined_ofsted_df.loc[(combined_ofsted_df['RELCHAR'].str.startswith('Islam') == True) |\n",
    "                       (combined_ofsted_df['RELCHAR'].str.startswith('Sunni Deobandi') == True) |\n",
    "                       (combined_ofsted_df['RELCHAR'].str.startswith('Muslim') == True), 'RELCHAR'] = 'Muslim'\n",
    "\n",
    "combined_ofsted_df.loc[(combined_ofsted_df['RELCHAR'].str.startswith('Roman Catholic') == True) |\n",
    "                       (combined_ofsted_df['RELCHAR'].str.startswith('Church of England') == True) |\n",
    "                       (combined_ofsted_df['RELCHAR'].str.startswith('Christian/Evangelical') == True) | \n",
    "                       (combined_ofsted_df['RELCHAR'].str.startswith('Church of England/Roman Catholic') == True) | \n",
    "                       (combined_ofsted_df['RELCHAR'].str.startswith('Roman Catholic/Church of England') == True) | \n",
    "                       (combined_ofsted_df['RELCHAR'].str.startswith('Anglican/Christian') == True) |\n",
    "                       (combined_ofsted_df['RELCHAR'].str.startswith('Church of England/Christian') == True) |\n",
    "                       (combined_ofsted_df['RELCHAR'].str.startswith('Church of England/Methodist') == True) |\n",
    "                       (combined_ofsted_df['RELCHAR'].str.startswith('Catholic') == True) |\n",
    "                       (combined_ofsted_df['RELCHAR'].str.startswith('Quaker') == True) |\n",
    "                       (combined_ofsted_df['RELCHAR'].str.startswith('Inter- / non- denominational') == True),'RELCHAR'] = 'Christian'\n",
    "\n",
    "combined_ofsted_df.loc[(combined_ofsted_df['RELCHAR'].str.startswith('Charadi Jewish') == True) |\n",
    "                       (combined_ofsted_df['RELCHAR'].str.startswith('Orthodox Jewish') == True) |\n",
    "                       (combined_ofsted_df['RELCHAR'].str.startswith('Greek Orthodox') == True), 'RELCHAR'] = 'Jewish'"
   ]
  },
  {
   "cell_type": "code",
   "execution_count": 18,
   "metadata": {},
   "outputs": [],
   "source": [
    "le = preprocessing.LabelEncoder()\n",
    "combined_ofsted_df['RELCHAR_LabEnc'] = le.fit_transform(combined_ofsted_df['RELCHAR'].values.reshape(-1,1))"
   ]
  },
  {
   "cell_type": "markdown",
   "metadata": {},
   "source": [
    "8. Estimate the accuracy of the classifiers with these new features."
   ]
  },
  {
   "cell_type": "code",
   "execution_count": 19,
   "metadata": {},
   "outputs": [],
   "source": [
    "frames = [selectedFeatures, combined_ofsted_df[['GENDER_OrdEnc','RELCHAR_LabEnc']],prog8Features]\n",
    "selectedFeatures = pd.concat(frames, axis=1)"
   ]
  },
  {
   "cell_type": "code",
   "execution_count": 20,
   "metadata": {},
   "outputs": [],
   "source": [
    "X = selectedFeatures.values\n",
    "y = combined_ofsted_df['Rating'].values.reshape(-1,1)"
   ]
  },
  {
   "cell_type": "code",
   "execution_count": 21,
   "metadata": {},
   "outputs": [
    {
     "data": {
      "text/html": [
       "<div>\n",
       "<style scoped>\n",
       "    .dataframe tbody tr th:only-of-type {\n",
       "        vertical-align: middle;\n",
       "    }\n",
       "\n",
       "    .dataframe tbody tr th {\n",
       "        vertical-align: top;\n",
       "    }\n",
       "\n",
       "    .dataframe thead th {\n",
       "        text-align: right;\n",
       "    }\n",
       "</style>\n",
       "<table border=\"1\" class=\"dataframe\">\n",
       "  <thead>\n",
       "    <tr style=\"text-align: right;\">\n",
       "      <th></th>\n",
       "      <th>model</th>\n",
       "      <th>new_features</th>\n",
       "      <th>baseline</th>\n",
       "    </tr>\n",
       "  </thead>\n",
       "  <tbody>\n",
       "    <tr>\n",
       "      <th>1</th>\n",
       "      <td>Logistic</td>\n",
       "      <td>0.639477</td>\n",
       "      <td>0.603272</td>\n",
       "    </tr>\n",
       "    <tr>\n",
       "      <th>3</th>\n",
       "      <td>Non-Linear SVM</td>\n",
       "      <td>0.596947</td>\n",
       "      <td>0.593675</td>\n",
       "    </tr>\n",
       "    <tr>\n",
       "      <th>2</th>\n",
       "      <td>Linear SVM</td>\n",
       "      <td>0.588441</td>\n",
       "      <td>0.580807</td>\n",
       "    </tr>\n",
       "    <tr>\n",
       "      <th>0</th>\n",
       "      <td>KNN</td>\n",
       "      <td>0.584079</td>\n",
       "      <td>0.568593</td>\n",
       "    </tr>\n",
       "    <tr>\n",
       "      <th>6</th>\n",
       "      <td>BernoulliNB</td>\n",
       "      <td>0.578408</td>\n",
       "      <td>0.589095</td>\n",
       "    </tr>\n",
       "    <tr>\n",
       "      <th>5</th>\n",
       "      <td>GaussianNB</td>\n",
       "      <td>0.451690</td>\n",
       "      <td>0.564449</td>\n",
       "    </tr>\n",
       "    <tr>\n",
       "      <th>4</th>\n",
       "      <td>MultinomialNB</td>\n",
       "      <td>0.312759</td>\n",
       "      <td>0.296183</td>\n",
       "    </tr>\n",
       "  </tbody>\n",
       "</table>\n",
       "</div>"
      ],
      "text/plain": [
       "            model  new_features  baseline\n",
       "1        Logistic      0.639477  0.603272\n",
       "3  Non-Linear SVM      0.596947  0.593675\n",
       "2      Linear SVM      0.588441  0.580807\n",
       "0             KNN      0.584079  0.568593\n",
       "6     BernoulliNB      0.578408  0.589095\n",
       "5      GaussianNB      0.451690  0.564449\n",
       "4   MultinomialNB      0.312759  0.296183"
      ]
     },
     "execution_count": 21,
     "metadata": {},
     "output_type": "execute_result"
    }
   ],
   "source": [
    "accuracies = []\n",
    "for model in models:\n",
    "    scores = model_selection.cross_val_score(estimator=model, X=X, y=y, cv=cross_validator)\n",
    "    accuracies.append(np.mean(scores))\n",
    "results['new_features'] = accuracies\n",
    "results.sort_values(by='new_features', ascending=False)[['model','new_features','baseline']]"
   ]
  },
  {
   "cell_type": "markdown",
   "metadata": {},
   "source": [
    "9. The remaining features are a mix of numeric and non-numeric values. Propose a method for making these features usable by the classifiers, justify it and implement it."
   ]
  },
  {
   "cell_type": "code",
   "execution_count": 22,
   "metadata": {},
   "outputs": [],
   "source": [
    "remaining_cols = combined_ofsted_df.columns[(combined_ofsted_df.columns.isin(selectedFeatures)) == False]\n",
    "remaining_cols = combined_ofsted_df[remaining_cols].drop(columns=['URN','LA','GENDER','RELCHAR','Rating'])"
   ]
  },
  {
   "cell_type": "markdown",
   "metadata": {},
   "source": [
    "**General abbreviations:**\t\t\n",
    "**NEW:**\tNew institution\t\n",
    "**NE:**\tNo entries: the school or college did not enter any pupils or students for the qualifications covered by the measure\t\n",
    "**NA:**\tNot applicable: figures are either not available for the year in question, or the data field is not applicable to this school or college\t\n",
    "**SUPP**\tSuppressed: In certain circumstances we will suppress an establishment's data. This is usually when there are 5 or fewer pupils or students covered by the measure (10 in the case of destination measures)\t\n",
    "**NP:**\tNot published: for example, we do not publish Progress 8 data for independent schools and independent special schools, or breakdowns by disadvantaged and other pupils for independent schools, independent special schools and non-maintained special schools\t\n",
    "**LOWCOV:**\tLow coverage: shown for the ‘value added’ measure and coverage indicator where schools have less than 50% of pupils included in calculation of the measure\t\n",
    "**SP:**\tSmall percentage: the number is between 0% and 0.5%\t\n",
    "**RE:**\tRedacted: of a reliable estimate and therefore don’t provide a fair measure of performance. For transparency, we publish the headline information for these providers separately in the national achievement rates tables\t\n",
    "\t\t\n"
   ]
  },
  {
   "cell_type": "code",
   "execution_count": 23,
   "metadata": {},
   "outputs": [],
   "source": [
    "## imputing mean with non-numeric values. So, it will be usable by classifiers    \n",
    "for col in remaining_cols.columns:\n",
    "    mean = round(remaining_cols[col].transform(pd.to_numeric, errors='coerce').mean(),1)\n",
    "    dictMean = {'NE': mean, 'SUPP': mean, 'NP': mean, 'LOWCOV': mean,'SP': mean}\n",
    "    remaining_cols[col] = remaining_cols[col].astype(object).replace(dictMean)\n",
    "    remaining_cols[col] = remaining_cols[col].astype(float)"
   ]
  },
  {
   "cell_type": "markdown",
   "metadata": {},
   "source": [
    "10. Estimate the accuracy of the classifiers with these new features."
   ]
  },
  {
   "cell_type": "code",
   "execution_count": 24,
   "metadata": {},
   "outputs": [],
   "source": [
    "frames = [selectedFeatures, remaining_cols]\n",
    "selectedFeatures = pd.concat(frames, axis=1)"
   ]
  },
  {
   "cell_type": "code",
   "execution_count": 25,
   "metadata": {},
   "outputs": [],
   "source": [
    "X = selectedFeatures.values\n",
    "y = combined_ofsted_df['Rating'].values.reshape(-1,1)"
   ]
  },
  {
   "cell_type": "code",
   "execution_count": 26,
   "metadata": {},
   "outputs": [
    {
     "data": {
      "text/html": [
       "<div>\n",
       "<style scoped>\n",
       "    .dataframe tbody tr th:only-of-type {\n",
       "        vertical-align: middle;\n",
       "    }\n",
       "\n",
       "    .dataframe tbody tr th {\n",
       "        vertical-align: top;\n",
       "    }\n",
       "\n",
       "    .dataframe thead th {\n",
       "        text-align: right;\n",
       "    }\n",
       "</style>\n",
       "<table border=\"1\" class=\"dataframe\">\n",
       "  <thead>\n",
       "    <tr style=\"text-align: right;\">\n",
       "      <th></th>\n",
       "      <th>model</th>\n",
       "      <th>all_features</th>\n",
       "      <th>new_features</th>\n",
       "      <th>baseline</th>\n",
       "    </tr>\n",
       "  </thead>\n",
       "  <tbody>\n",
       "    <tr>\n",
       "      <th>1</th>\n",
       "      <td>Logistic</td>\n",
       "      <td>0.644275</td>\n",
       "      <td>0.639477</td>\n",
       "      <td>0.603272</td>\n",
       "    </tr>\n",
       "    <tr>\n",
       "      <th>6</th>\n",
       "      <td>BernoulliNB</td>\n",
       "      <td>0.596728</td>\n",
       "      <td>0.578408</td>\n",
       "      <td>0.589095</td>\n",
       "    </tr>\n",
       "    <tr>\n",
       "      <th>3</th>\n",
       "      <td>Non-Linear SVM</td>\n",
       "      <td>0.595202</td>\n",
       "      <td>0.596947</td>\n",
       "      <td>0.593675</td>\n",
       "    </tr>\n",
       "    <tr>\n",
       "      <th>0</th>\n",
       "      <td>KNN</td>\n",
       "      <td>0.584951</td>\n",
       "      <td>0.584079</td>\n",
       "      <td>0.568593</td>\n",
       "    </tr>\n",
       "    <tr>\n",
       "      <th>2</th>\n",
       "      <td>Linear SVM</td>\n",
       "      <td>0.556598</td>\n",
       "      <td>0.588441</td>\n",
       "      <td>0.580807</td>\n",
       "    </tr>\n",
       "    <tr>\n",
       "      <th>5</th>\n",
       "      <td>GaussianNB</td>\n",
       "      <td>0.481352</td>\n",
       "      <td>0.451690</td>\n",
       "      <td>0.564449</td>\n",
       "    </tr>\n",
       "    <tr>\n",
       "      <th>4</th>\n",
       "      <td>MultinomialNB</td>\n",
       "      <td>0.328026</td>\n",
       "      <td>0.312759</td>\n",
       "      <td>0.296183</td>\n",
       "    </tr>\n",
       "  </tbody>\n",
       "</table>\n",
       "</div>"
      ],
      "text/plain": [
       "            model  all_features  new_features  baseline\n",
       "1        Logistic      0.644275      0.639477  0.603272\n",
       "6     BernoulliNB      0.596728      0.578408  0.589095\n",
       "3  Non-Linear SVM      0.595202      0.596947  0.593675\n",
       "0             KNN      0.584951      0.584079  0.568593\n",
       "2      Linear SVM      0.556598      0.588441  0.580807\n",
       "5      GaussianNB      0.481352      0.451690  0.564449\n",
       "4   MultinomialNB      0.328026      0.312759  0.296183"
      ]
     },
     "execution_count": 26,
     "metadata": {},
     "output_type": "execute_result"
    }
   ],
   "source": [
    "accuracies = []\n",
    "for model in models:\n",
    "    scores = model_selection.cross_val_score(estimator=model, X=X, y=y, cv=cross_validator)\n",
    "    accuracies.append(np.mean(scores))\n",
    "results['all_features'] = accuracies\n",
    "results.sort_values(by='all_features', ascending=False)[['model','all_features','new_features','baseline']]"
   ]
  },
  {
   "cell_type": "markdown",
   "metadata": {},
   "source": [
    "11. Some classifiers perform best when the data is all in a similar range. Apply standardisation and normalisation to improve the accuracy of the classifiers."
   ]
  },
  {
   "cell_type": "code",
   "execution_count": 27,
   "metadata": {},
   "outputs": [],
   "source": [
    "min_max_scaler = preprocessing.MinMaxScaler()\n",
    "X_Min_Max = min_max_scaler.fit_transform(X)"
   ]
  },
  {
   "cell_type": "code",
   "execution_count": 28,
   "metadata": {},
   "outputs": [
    {
     "data": {
      "text/html": [
       "<div>\n",
       "<style scoped>\n",
       "    .dataframe tbody tr th:only-of-type {\n",
       "        vertical-align: middle;\n",
       "    }\n",
       "\n",
       "    .dataframe tbody tr th {\n",
       "        vertical-align: top;\n",
       "    }\n",
       "\n",
       "    .dataframe thead th {\n",
       "        text-align: right;\n",
       "    }\n",
       "</style>\n",
       "<table border=\"1\" class=\"dataframe\">\n",
       "  <thead>\n",
       "    <tr style=\"text-align: right;\">\n",
       "      <th></th>\n",
       "      <th>model</th>\n",
       "      <th>all_features_Min_Max</th>\n",
       "      <th>all_features</th>\n",
       "      <th>new_features</th>\n",
       "      <th>baseline</th>\n",
       "    </tr>\n",
       "  </thead>\n",
       "  <tbody>\n",
       "    <tr>\n",
       "      <th>3</th>\n",
       "      <td>Non-Linear SVM</td>\n",
       "      <td>0.651254</td>\n",
       "      <td>0.595202</td>\n",
       "      <td>0.596947</td>\n",
       "      <td>0.593675</td>\n",
       "    </tr>\n",
       "    <tr>\n",
       "      <th>2</th>\n",
       "      <td>Linear SVM</td>\n",
       "      <td>0.648419</td>\n",
       "      <td>0.556598</td>\n",
       "      <td>0.588441</td>\n",
       "      <td>0.580807</td>\n",
       "    </tr>\n",
       "    <tr>\n",
       "      <th>1</th>\n",
       "      <td>Logistic</td>\n",
       "      <td>0.647546</td>\n",
       "      <td>0.644275</td>\n",
       "      <td>0.639477</td>\n",
       "      <td>0.603272</td>\n",
       "    </tr>\n",
       "    <tr>\n",
       "      <th>4</th>\n",
       "      <td>MultinomialNB</td>\n",
       "      <td>0.620502</td>\n",
       "      <td>0.328026</td>\n",
       "      <td>0.312759</td>\n",
       "      <td>0.296183</td>\n",
       "    </tr>\n",
       "    <tr>\n",
       "      <th>0</th>\n",
       "      <td>KNN</td>\n",
       "      <td>0.611778</td>\n",
       "      <td>0.584951</td>\n",
       "      <td>0.584079</td>\n",
       "      <td>0.568593</td>\n",
       "    </tr>\n",
       "    <tr>\n",
       "      <th>6</th>\n",
       "      <td>BernoulliNB</td>\n",
       "      <td>0.606979</td>\n",
       "      <td>0.596728</td>\n",
       "      <td>0.578408</td>\n",
       "      <td>0.589095</td>\n",
       "    </tr>\n",
       "    <tr>\n",
       "      <th>5</th>\n",
       "      <td>GaussianNB</td>\n",
       "      <td>0.481352</td>\n",
       "      <td>0.481352</td>\n",
       "      <td>0.451690</td>\n",
       "      <td>0.564449</td>\n",
       "    </tr>\n",
       "  </tbody>\n",
       "</table>\n",
       "</div>"
      ],
      "text/plain": [
       "            model  all_features_Min_Max  all_features  new_features  baseline\n",
       "3  Non-Linear SVM              0.651254      0.595202      0.596947  0.593675\n",
       "2      Linear SVM              0.648419      0.556598      0.588441  0.580807\n",
       "1        Logistic              0.647546      0.644275      0.639477  0.603272\n",
       "4   MultinomialNB              0.620502      0.328026      0.312759  0.296183\n",
       "0             KNN              0.611778      0.584951      0.584079  0.568593\n",
       "6     BernoulliNB              0.606979      0.596728      0.578408  0.589095\n",
       "5      GaussianNB              0.481352      0.481352      0.451690  0.564449"
      ]
     },
     "execution_count": 28,
     "metadata": {},
     "output_type": "execute_result"
    }
   ],
   "source": [
    "accuracies = []\n",
    "for model in models:\n",
    "    scores = model_selection.cross_val_score(estimator=model, X=X_Min_Max, y=y, cv=cross_validator)\n",
    "    accuracies.append(np.mean(scores))\n",
    "results['all_features_Min_Max'] = accuracies\n",
    "results.sort_values(by='all_features_Min_Max', ascending=False)[['model','all_features_Min_Max','all_features','new_features','baseline']]"
   ]
  },
  {
   "cell_type": "code",
   "execution_count": 29,
   "metadata": {},
   "outputs": [],
   "source": [
    "scaler = preprocessing.StandardScaler()\n",
    "X_Scaled = scaler.fit_transform(X)"
   ]
  },
  {
   "cell_type": "code",
   "execution_count": 30,
   "metadata": {},
   "outputs": [
    {
     "data": {
      "text/html": [
       "<div>\n",
       "<style scoped>\n",
       "    .dataframe tbody tr th:only-of-type {\n",
       "        vertical-align: middle;\n",
       "    }\n",
       "\n",
       "    .dataframe tbody tr th {\n",
       "        vertical-align: top;\n",
       "    }\n",
       "\n",
       "    .dataframe thead th {\n",
       "        text-align: right;\n",
       "    }\n",
       "</style>\n",
       "<table border=\"1\" class=\"dataframe\">\n",
       "  <thead>\n",
       "    <tr style=\"text-align: right;\">\n",
       "      <th></th>\n",
       "      <th>model</th>\n",
       "      <th>all_features_Scaled</th>\n",
       "      <th>all_features_Min_Max</th>\n",
       "      <th>all_features</th>\n",
       "      <th>new_features</th>\n",
       "      <th>baseline</th>\n",
       "    </tr>\n",
       "  </thead>\n",
       "  <tbody>\n",
       "    <tr>\n",
       "      <th>2</th>\n",
       "      <td>Linear SVM</td>\n",
       "      <td>0.647546</td>\n",
       "      <td>0.648419</td>\n",
       "      <td>0.556598</td>\n",
       "      <td>0.588441</td>\n",
       "      <td>0.580807</td>\n",
       "    </tr>\n",
       "    <tr>\n",
       "      <th>3</th>\n",
       "      <td>Non-Linear SVM</td>\n",
       "      <td>0.646456</td>\n",
       "      <td>0.651254</td>\n",
       "      <td>0.595202</td>\n",
       "      <td>0.596947</td>\n",
       "      <td>0.593675</td>\n",
       "    </tr>\n",
       "    <tr>\n",
       "      <th>1</th>\n",
       "      <td>Logistic</td>\n",
       "      <td>0.644711</td>\n",
       "      <td>0.647546</td>\n",
       "      <td>0.644275</td>\n",
       "      <td>0.639477</td>\n",
       "      <td>0.603272</td>\n",
       "    </tr>\n",
       "    <tr>\n",
       "      <th>0</th>\n",
       "      <td>KNN</td>\n",
       "      <td>0.604144</td>\n",
       "      <td>0.611778</td>\n",
       "      <td>0.584951</td>\n",
       "      <td>0.584079</td>\n",
       "      <td>0.568593</td>\n",
       "    </tr>\n",
       "    <tr>\n",
       "      <th>6</th>\n",
       "      <td>BernoulliNB</td>\n",
       "      <td>0.547001</td>\n",
       "      <td>0.606979</td>\n",
       "      <td>0.596728</td>\n",
       "      <td>0.578408</td>\n",
       "      <td>0.589095</td>\n",
       "    </tr>\n",
       "    <tr>\n",
       "      <th>5</th>\n",
       "      <td>GaussianNB</td>\n",
       "      <td>0.481352</td>\n",
       "      <td>0.481352</td>\n",
       "      <td>0.481352</td>\n",
       "      <td>0.451690</td>\n",
       "      <td>0.564449</td>\n",
       "    </tr>\n",
       "    <tr>\n",
       "      <th>4</th>\n",
       "      <td>MultinomialNB</td>\n",
       "      <td>NaN</td>\n",
       "      <td>0.620502</td>\n",
       "      <td>0.328026</td>\n",
       "      <td>0.312759</td>\n",
       "      <td>0.296183</td>\n",
       "    </tr>\n",
       "  </tbody>\n",
       "</table>\n",
       "</div>"
      ],
      "text/plain": [
       "            model  all_features_Scaled  all_features_Min_Max  all_features  \\\n",
       "2      Linear SVM             0.647546              0.648419      0.556598   \n",
       "3  Non-Linear SVM             0.646456              0.651254      0.595202   \n",
       "1        Logistic             0.644711              0.647546      0.644275   \n",
       "0             KNN             0.604144              0.611778      0.584951   \n",
       "6     BernoulliNB             0.547001              0.606979      0.596728   \n",
       "5      GaussianNB             0.481352              0.481352      0.481352   \n",
       "4   MultinomialNB                  NaN              0.620502      0.328026   \n",
       "\n",
       "   new_features  baseline  \n",
       "2      0.588441  0.580807  \n",
       "3      0.596947  0.593675  \n",
       "1      0.639477  0.603272  \n",
       "0      0.584079  0.568593  \n",
       "6      0.578408  0.589095  \n",
       "5      0.451690  0.564449  \n",
       "4      0.312759  0.296183  "
      ]
     },
     "execution_count": 30,
     "metadata": {},
     "output_type": "execute_result"
    }
   ],
   "source": [
    "accuracies = []\n",
    "for model in models:\n",
    "    scores = model_selection.cross_val_score(estimator=model, X=X_Scaled, y=y, cv=cross_validator)\n",
    "    accuracies.append(np.mean(scores))\n",
    "results['all_features_Scaled'] = accuracies\n",
    "results.sort_values(by='all_features_Scaled', ascending=False)[['model','all_features_Scaled','all_features_Min_Max','all_features','new_features','baseline']]\n",
    "\n",
    "## MultinomialNB is suitable for discrete features. I'm going to use X_Min_Max normalisation."
   ]
  },
  {
   "cell_type": "markdown",
   "metadata": {},
   "source": [
    "12. Propose, justify and implement two other examples of feature engineering to try and increase the accuracy of one or more classifiers."
   ]
  },
  {
   "cell_type": "code",
   "execution_count": 31,
   "metadata": {},
   "outputs": [],
   "source": [
    "## Rounding (By default will round to nearest integer and Specify number of decimal places)\n",
    "for col in selectedFeatures.columns:\n",
    "    selectedFeatures[col] = selectedFeatures[col].apply(lambda x: round(x))"
   ]
  },
  {
   "cell_type": "code",
   "execution_count": 32,
   "metadata": {},
   "outputs": [
    {
     "data": {
      "text/html": [
       "<div>\n",
       "<style scoped>\n",
       "    .dataframe tbody tr th:only-of-type {\n",
       "        vertical-align: middle;\n",
       "    }\n",
       "\n",
       "    .dataframe tbody tr th {\n",
       "        vertical-align: top;\n",
       "    }\n",
       "\n",
       "    .dataframe thead th {\n",
       "        text-align: right;\n",
       "    }\n",
       "</style>\n",
       "<table border=\"1\" class=\"dataframe\">\n",
       "  <thead>\n",
       "    <tr style=\"text-align: right;\">\n",
       "      <th></th>\n",
       "      <th>feature</th>\n",
       "      <th>mi</th>\n",
       "    </tr>\n",
       "  </thead>\n",
       "  <tbody>\n",
       "    <tr>\n",
       "      <th>14</th>\n",
       "      <td>ATT8SCR</td>\n",
       "      <td>0.150255</td>\n",
       "    </tr>\n",
       "    <tr>\n",
       "      <th>22</th>\n",
       "      <td>PTL2BASICS_95</td>\n",
       "      <td>0.138528</td>\n",
       "    </tr>\n",
       "    <tr>\n",
       "      <th>20</th>\n",
       "      <td>EBACCAPS</td>\n",
       "      <td>0.138492</td>\n",
       "    </tr>\n",
       "    <tr>\n",
       "      <th>26</th>\n",
       "      <td>PT5EM_94</td>\n",
       "      <td>0.128752</td>\n",
       "    </tr>\n",
       "    <tr>\n",
       "      <th>21</th>\n",
       "      <td>PTL2BASICS_94</td>\n",
       "      <td>0.120721</td>\n",
       "    </tr>\n",
       "    <tr>\n",
       "      <th>17</th>\n",
       "      <td>P8CIUPP</td>\n",
       "      <td>0.113994</td>\n",
       "    </tr>\n",
       "    <tr>\n",
       "      <th>24</th>\n",
       "      <td>PTEBACC_94</td>\n",
       "      <td>0.111174</td>\n",
       "    </tr>\n",
       "    <tr>\n",
       "      <th>18</th>\n",
       "      <td>P8_BANDING</td>\n",
       "      <td>0.103906</td>\n",
       "    </tr>\n",
       "    <tr>\n",
       "      <th>25</th>\n",
       "      <td>PTEBACC_95</td>\n",
       "      <td>0.098940</td>\n",
       "    </tr>\n",
       "    <tr>\n",
       "      <th>15</th>\n",
       "      <td>P8MEA</td>\n",
       "      <td>0.085967</td>\n",
       "    </tr>\n",
       "  </tbody>\n",
       "</table>\n",
       "</div>"
      ],
      "text/plain": [
       "          feature        mi\n",
       "14        ATT8SCR  0.150255\n",
       "22  PTL2BASICS_95  0.138528\n",
       "20       EBACCAPS  0.138492\n",
       "26       PT5EM_94  0.128752\n",
       "21  PTL2BASICS_94  0.120721\n",
       "17        P8CIUPP  0.113994\n",
       "24     PTEBACC_94  0.111174\n",
       "18     P8_BANDING  0.103906\n",
       "25     PTEBACC_95  0.098940\n",
       "15          P8MEA  0.085967"
      ]
     },
     "execution_count": 32,
     "metadata": {},
     "output_type": "execute_result"
    }
   ],
   "source": [
    "mi_scores = feature_selection.mutual_info_classif(X_Min_Max, y)\n",
    "features = pd.DataFrame({'feature':selectedFeatures.columns,'mi':mi_scores})\n",
    "features.sort_values(by='mi', ascending=False).head(10)"
   ]
  },
  {
   "cell_type": "code",
   "execution_count": 33,
   "metadata": {},
   "outputs": [],
   "source": [
    "top_features = features.sort_values(by='mi', ascending=False)['feature'].head(20).tolist()"
   ]
  },
  {
   "cell_type": "code",
   "execution_count": 34,
   "metadata": {},
   "outputs": [
    {
     "data": {
      "text/html": [
       "<div>\n",
       "<style scoped>\n",
       "    .dataframe tbody tr th:only-of-type {\n",
       "        vertical-align: middle;\n",
       "    }\n",
       "\n",
       "    .dataframe tbody tr th {\n",
       "        vertical-align: top;\n",
       "    }\n",
       "\n",
       "    .dataframe thead th {\n",
       "        text-align: right;\n",
       "    }\n",
       "</style>\n",
       "<table border=\"1\" class=\"dataframe\">\n",
       "  <thead>\n",
       "    <tr style=\"text-align: right;\">\n",
       "      <th></th>\n",
       "      <th>ATT8SCR</th>\n",
       "      <th>PTL2BASICS_95</th>\n",
       "      <th>EBACCAPS</th>\n",
       "      <th>PT5EM_94</th>\n",
       "      <th>PTL2BASICS_94</th>\n",
       "      <th>P8CIUPP</th>\n",
       "      <th>PTEBACC_94</th>\n",
       "      <th>P8_BANDING</th>\n",
       "      <th>PTEBACC_95</th>\n",
       "      <th>P8MEA</th>\n",
       "      <th>P8CILOW</th>\n",
       "      <th>PTEBACC_E_PTQ_EE</th>\n",
       "      <th>NOT_SUSTAINEDPER</th>\n",
       "      <th>PERCTOT</th>\n",
       "      <th>PPERSABS10</th>\n",
       "      <th>PNUMFSM</th>\n",
       "      <th>OVERALL_DESTPER</th>\n",
       "      <th>NOT_SUSTAINEDPER_DIS</th>\n",
       "      <th>OVERALL_DESTPER_DIS</th>\n",
       "      <th>TPUP</th>\n",
       "    </tr>\n",
       "  </thead>\n",
       "  <tbody>\n",
       "    <tr>\n",
       "      <th>count</th>\n",
       "      <td>4585.000000</td>\n",
       "      <td>4585.000000</td>\n",
       "      <td>4585.000000</td>\n",
       "      <td>4585.000000</td>\n",
       "      <td>4585.000000</td>\n",
       "      <td>4585.000000</td>\n",
       "      <td>4585.000000</td>\n",
       "      <td>4585.000000</td>\n",
       "      <td>4585.000000</td>\n",
       "      <td>4585.000000</td>\n",
       "      <td>4585.000000</td>\n",
       "      <td>4585.000000</td>\n",
       "      <td>4585.000000</td>\n",
       "      <td>4585.000000</td>\n",
       "      <td>4585.000000</td>\n",
       "      <td>4585.000000</td>\n",
       "      <td>4585.000000</td>\n",
       "      <td>4585.0</td>\n",
       "      <td>4585.0</td>\n",
       "      <td>4585.000000</td>\n",
       "    </tr>\n",
       "    <tr>\n",
       "      <th>mean</th>\n",
       "      <td>42.856270</td>\n",
       "      <td>0.147437</td>\n",
       "      <td>3.754198</td>\n",
       "      <td>0.692257</td>\n",
       "      <td>0.820720</td>\n",
       "      <td>0.129335</td>\n",
       "      <td>0.043839</td>\n",
       "      <td>3.150709</td>\n",
       "      <td>0.014613</td>\n",
       "      <td>0.070229</td>\n",
       "      <td>0.029226</td>\n",
       "      <td>0.180153</td>\n",
       "      <td>0.003708</td>\n",
       "      <td>6.874809</td>\n",
       "      <td>17.122792</td>\n",
       "      <td>0.032061</td>\n",
       "      <td>0.993021</td>\n",
       "      <td>0.0</td>\n",
       "      <td>1.0</td>\n",
       "      <td>136.080698</td>\n",
       "    </tr>\n",
       "    <tr>\n",
       "      <th>std</th>\n",
       "      <td>11.918538</td>\n",
       "      <td>0.354580</td>\n",
       "      <td>1.181775</td>\n",
       "      <td>0.461610</td>\n",
       "      <td>0.383629</td>\n",
       "      <td>0.340126</td>\n",
       "      <td>0.204758</td>\n",
       "      <td>1.001837</td>\n",
       "      <td>0.120010</td>\n",
       "      <td>0.258109</td>\n",
       "      <td>0.168457</td>\n",
       "      <td>0.384356</td>\n",
       "      <td>0.060785</td>\n",
       "      <td>3.529857</td>\n",
       "      <td>9.932976</td>\n",
       "      <td>0.176182</td>\n",
       "      <td>0.083259</td>\n",
       "      <td>0.0</td>\n",
       "      <td>0.0</td>\n",
       "      <td>69.840747</td>\n",
       "    </tr>\n",
       "    <tr>\n",
       "      <th>min</th>\n",
       "      <td>0.000000</td>\n",
       "      <td>0.000000</td>\n",
       "      <td>0.000000</td>\n",
       "      <td>0.000000</td>\n",
       "      <td>0.000000</td>\n",
       "      <td>0.000000</td>\n",
       "      <td>0.000000</td>\n",
       "      <td>1.000000</td>\n",
       "      <td>0.000000</td>\n",
       "      <td>0.000000</td>\n",
       "      <td>0.000000</td>\n",
       "      <td>0.000000</td>\n",
       "      <td>0.000000</td>\n",
       "      <td>2.000000</td>\n",
       "      <td>0.000000</td>\n",
       "      <td>0.000000</td>\n",
       "      <td>0.000000</td>\n",
       "      <td>0.0</td>\n",
       "      <td>1.0</td>\n",
       "      <td>1.000000</td>\n",
       "    </tr>\n",
       "    <tr>\n",
       "      <th>25%</th>\n",
       "      <td>42.000000</td>\n",
       "      <td>0.000000</td>\n",
       "      <td>4.000000</td>\n",
       "      <td>0.000000</td>\n",
       "      <td>1.000000</td>\n",
       "      <td>0.000000</td>\n",
       "      <td>0.000000</td>\n",
       "      <td>3.000000</td>\n",
       "      <td>0.000000</td>\n",
       "      <td>0.000000</td>\n",
       "      <td>0.000000</td>\n",
       "      <td>0.000000</td>\n",
       "      <td>0.000000</td>\n",
       "      <td>5.000000</td>\n",
       "      <td>13.000000</td>\n",
       "      <td>0.000000</td>\n",
       "      <td>1.000000</td>\n",
       "      <td>0.0</td>\n",
       "      <td>1.0</td>\n",
       "      <td>109.000000</td>\n",
       "    </tr>\n",
       "    <tr>\n",
       "      <th>50%</th>\n",
       "      <td>45.000000</td>\n",
       "      <td>0.000000</td>\n",
       "      <td>4.000000</td>\n",
       "      <td>1.000000</td>\n",
       "      <td>1.000000</td>\n",
       "      <td>0.000000</td>\n",
       "      <td>0.000000</td>\n",
       "      <td>3.000000</td>\n",
       "      <td>0.000000</td>\n",
       "      <td>0.000000</td>\n",
       "      <td>0.000000</td>\n",
       "      <td>0.000000</td>\n",
       "      <td>0.000000</td>\n",
       "      <td>7.000000</td>\n",
       "      <td>15.000000</td>\n",
       "      <td>0.000000</td>\n",
       "      <td>1.000000</td>\n",
       "      <td>0.0</td>\n",
       "      <td>1.0</td>\n",
       "      <td>137.000000</td>\n",
       "    </tr>\n",
       "    <tr>\n",
       "      <th>75%</th>\n",
       "      <td>47.000000</td>\n",
       "      <td>0.000000</td>\n",
       "      <td>4.000000</td>\n",
       "      <td>1.000000</td>\n",
       "      <td>1.000000</td>\n",
       "      <td>0.000000</td>\n",
       "      <td>0.000000</td>\n",
       "      <td>3.000000</td>\n",
       "      <td>0.000000</td>\n",
       "      <td>0.000000</td>\n",
       "      <td>0.000000</td>\n",
       "      <td>0.000000</td>\n",
       "      <td>0.000000</td>\n",
       "      <td>7.000000</td>\n",
       "      <td>18.000000</td>\n",
       "      <td>0.000000</td>\n",
       "      <td>1.000000</td>\n",
       "      <td>0.0</td>\n",
       "      <td>1.0</td>\n",
       "      <td>173.000000</td>\n",
       "    </tr>\n",
       "    <tr>\n",
       "      <th>max</th>\n",
       "      <td>83.000000</td>\n",
       "      <td>1.000000</td>\n",
       "      <td>8.000000</td>\n",
       "      <td>1.000000</td>\n",
       "      <td>1.000000</td>\n",
       "      <td>2.000000</td>\n",
       "      <td>1.000000</td>\n",
       "      <td>5.000000</td>\n",
       "      <td>1.000000</td>\n",
       "      <td>2.000000</td>\n",
       "      <td>1.000000</td>\n",
       "      <td>1.000000</td>\n",
       "      <td>1.000000</td>\n",
       "      <td>50.000000</td>\n",
       "      <td>88.000000</td>\n",
       "      <td>1.000000</td>\n",
       "      <td>1.000000</td>\n",
       "      <td>0.0</td>\n",
       "      <td>1.0</td>\n",
       "      <td>563.000000</td>\n",
       "    </tr>\n",
       "  </tbody>\n",
       "</table>\n",
       "</div>"
      ],
      "text/plain": [
       "           ATT8SCR  PTL2BASICS_95     EBACCAPS     PT5EM_94  PTL2BASICS_94  \\\n",
       "count  4585.000000    4585.000000  4585.000000  4585.000000    4585.000000   \n",
       "mean     42.856270       0.147437     3.754198     0.692257       0.820720   \n",
       "std      11.918538       0.354580     1.181775     0.461610       0.383629   \n",
       "min       0.000000       0.000000     0.000000     0.000000       0.000000   \n",
       "25%      42.000000       0.000000     4.000000     0.000000       1.000000   \n",
       "50%      45.000000       0.000000     4.000000     1.000000       1.000000   \n",
       "75%      47.000000       0.000000     4.000000     1.000000       1.000000   \n",
       "max      83.000000       1.000000     8.000000     1.000000       1.000000   \n",
       "\n",
       "           P8CIUPP   PTEBACC_94   P8_BANDING   PTEBACC_95        P8MEA  \\\n",
       "count  4585.000000  4585.000000  4585.000000  4585.000000  4585.000000   \n",
       "mean      0.129335     0.043839     3.150709     0.014613     0.070229   \n",
       "std       0.340126     0.204758     1.001837     0.120010     0.258109   \n",
       "min       0.000000     0.000000     1.000000     0.000000     0.000000   \n",
       "25%       0.000000     0.000000     3.000000     0.000000     0.000000   \n",
       "50%       0.000000     0.000000     3.000000     0.000000     0.000000   \n",
       "75%       0.000000     0.000000     3.000000     0.000000     0.000000   \n",
       "max       2.000000     1.000000     5.000000     1.000000     2.000000   \n",
       "\n",
       "           P8CILOW  PTEBACC_E_PTQ_EE  NOT_SUSTAINEDPER      PERCTOT  \\\n",
       "count  4585.000000       4585.000000       4585.000000  4585.000000   \n",
       "mean      0.029226          0.180153          0.003708     6.874809   \n",
       "std       0.168457          0.384356          0.060785     3.529857   \n",
       "min       0.000000          0.000000          0.000000     2.000000   \n",
       "25%       0.000000          0.000000          0.000000     5.000000   \n",
       "50%       0.000000          0.000000          0.000000     7.000000   \n",
       "75%       0.000000          0.000000          0.000000     7.000000   \n",
       "max       1.000000          1.000000          1.000000    50.000000   \n",
       "\n",
       "        PPERSABS10      PNUMFSM  OVERALL_DESTPER  NOT_SUSTAINEDPER_DIS  \\\n",
       "count  4585.000000  4585.000000      4585.000000                4585.0   \n",
       "mean     17.122792     0.032061         0.993021                   0.0   \n",
       "std       9.932976     0.176182         0.083259                   0.0   \n",
       "min       0.000000     0.000000         0.000000                   0.0   \n",
       "25%      13.000000     0.000000         1.000000                   0.0   \n",
       "50%      15.000000     0.000000         1.000000                   0.0   \n",
       "75%      18.000000     0.000000         1.000000                   0.0   \n",
       "max      88.000000     1.000000         1.000000                   0.0   \n",
       "\n",
       "       OVERALL_DESTPER_DIS         TPUP  \n",
       "count               4585.0  4585.000000  \n",
       "mean                   1.0   136.080698  \n",
       "std                    0.0    69.840747  \n",
       "min                    1.0     1.000000  \n",
       "25%                    1.0   109.000000  \n",
       "50%                    1.0   137.000000  \n",
       "75%                    1.0   173.000000  \n",
       "max                    1.0   563.000000  "
      ]
     },
     "execution_count": 34,
     "metadata": {},
     "output_type": "execute_result"
    }
   ],
   "source": [
    "selectedFeatures[top_features].describe()\n",
    "## Now most of the top feature values are already in [0,1,2]. \n",
    "##However, We can work on these columns [ATT8SCR,PPERSABS10,PERCTOT,PSENELSE]"
   ]
  },
  {
   "cell_type": "code",
   "execution_count": 35,
   "metadata": {},
   "outputs": [],
   "source": [
    "## First I'm going to make copy of selectedFeatures\n",
    "selectedFeatures_copy = selectedFeatures.copy()"
   ]
  },
  {
   "cell_type": "code",
   "execution_count": 36,
   "metadata": {},
   "outputs": [
    {
     "data": {
      "text/plain": [
       "<AxesSubplot:xlabel='PERCTOT', ylabel='Density'>"
      ]
     },
     "execution_count": 36,
     "metadata": {},
     "output_type": "execute_result"
    },
    {
     "data": {
      "image/png": "[encoded data removed]",
      "text/plain": [
       "<Figure size 1152x432 with 1 Axes>"
      ]
     },
     "metadata": {},
     "output_type": "display_data"
    }
   ],
   "source": [
    "## 1. PERCTOT\n",
    "fig, ax = plt.subplots(figsize = (16,6))\n",
    "sns.distplot(selectedFeatures_copy['PERCTOT'], rug=True, ax=ax)\n",
    "## We can apply Log Transformation as it is right skewed"
   ]
  },
  {
   "cell_type": "code",
   "execution_count": 37,
   "metadata": {},
   "outputs": [],
   "source": [
    "selectedFeatures_copy['PERCTOT'] = selectedFeatures_copy['PERCTOT'].apply(np.log10)"
   ]
  },
  {
   "cell_type": "code",
   "execution_count": 38,
   "metadata": {},
   "outputs": [
    {
     "data": {
      "text/plain": [
       "<AxesSubplot:xlabel='PERCTOT', ylabel='Density'>"
      ]
     },
     "execution_count": 38,
     "metadata": {},
     "output_type": "execute_result"
    },
    {
     "data": {
      "image/png": "[encoded data removed]",
      "text/plain": [
       "<Figure size 1152x432 with 1 Axes>"
      ]
     },
     "metadata": {},
     "output_type": "display_data"
    }
   ],
   "source": [
    "fig, ax = plt.subplots(figsize = (16,6))\n",
    "sns.distplot(selectedFeatures_copy['PERCTOT'], rug=True, ax=ax)\n",
    "## Now it's better than before "
   ]
  },
  {
   "cell_type": "code",
   "execution_count": 39,
   "metadata": {},
   "outputs": [
    {
     "data": {
      "text/plain": [
       "<AxesSubplot:xlabel='ATT8SCR', ylabel='Density'>"
      ]
     },
     "execution_count": 39,
     "metadata": {},
     "output_type": "execute_result"
    },
    {
     "data": {
      "image/png": "[encoded data removed]",
      "text/plain": [
       "<Figure size 1152x432 with 1 Axes>"
      ]
     },
     "metadata": {},
     "output_type": "display_data"
    }
   ],
   "source": [
    "## 2. ATT8SCR\n",
    "fig, ax = plt.subplots(figsize = (16,6))\n",
    "sns.distplot(selectedFeatures_copy['ATT8SCR'], rug=True, ax=ax)\n",
    "## we can use binning in this column"
   ]
  },
  {
   "cell_type": "code",
   "execution_count": 40,
   "metadata": {},
   "outputs": [],
   "source": [
    "selectedFeatures_copy['ATT8SCR'] = pd.cut(selectedFeatures_copy['ATT8SCR'], bins=8,labels=range(1,9))"
   ]
  },
  {
   "cell_type": "code",
   "execution_count": 41,
   "metadata": {},
   "outputs": [
    {
     "data": {
      "text/plain": [
       "5    2962\n",
       "4     684\n",
       "6     515\n",
       "1     271\n",
       "7      48\n",
       "3      45\n",
       "8      31\n",
       "2      29\n",
       "Name: ATT8SCR, dtype: int64"
      ]
     },
     "execution_count": 41,
     "metadata": {},
     "output_type": "execute_result"
    }
   ],
   "source": [
    "selectedFeatures_copy['ATT8SCR'].value_counts()"
   ]
  },
  {
   "cell_type": "code",
   "execution_count": 42,
   "metadata": {},
   "outputs": [
    {
     "data": {
      "text/plain": [
       "<AxesSubplot:xlabel='ATT8SCR', ylabel='Density'>"
      ]
     },
     "execution_count": 42,
     "metadata": {},
     "output_type": "execute_result"
    },
    {
     "data": {
      "image/png": "[encoded data removed]",
      "text/plain": [
       "<Figure size 1152x432 with 1 Axes>"
      ]
     },
     "metadata": {},
     "output_type": "display_data"
    }
   ],
   "source": [
    "fig, ax = plt.subplots(figsize = (16,6))\n",
    "sns.distplot(selectedFeatures_copy['ATT8SCR'], rug=True, ax=ax)"
   ]
  },
  {
   "cell_type": "code",
   "execution_count": 43,
   "metadata": {},
   "outputs": [
    {
     "data": {
      "text/plain": [
       "<AxesSubplot:xlabel='PSENELSE', ylabel='Density'>"
      ]
     },
     "execution_count": 43,
     "metadata": {},
     "output_type": "execute_result"
    },
    {
     "data": {
      "image/png": "[encoded data removed]",
      "text/plain": [
       "<Figure size 1152x432 with 1 Axes>"
      ]
     },
     "metadata": {},
     "output_type": "display_data"
    }
   ],
   "source": [
    "## 3. PSENELSE\n",
    "fig, ax = plt.subplots(figsize = (16,6))\n",
    "sns.distplot(selectedFeatures_copy['PSENELSE'], rug=True, ax=ax)\n",
    "## We can binning here also"
   ]
  },
  {
   "cell_type": "code",
   "execution_count": 44,
   "metadata": {},
   "outputs": [],
   "source": [
    "selectedFeatures_copy['PSENELSE'] = pd.cut(selectedFeatures_copy['PSENELSE'], bins=8,labels=range(1,9))"
   ]
  },
  {
   "cell_type": "code",
   "execution_count": 45,
   "metadata": {},
   "outputs": [
    {
     "data": {
      "text/plain": [
       "1    3035\n",
       "8     923\n",
       "2     500\n",
       "7      38\n",
       "6      29\n",
       "4      23\n",
       "3      20\n",
       "5      17\n",
       "Name: PSENELSE, dtype: int64"
      ]
     },
     "execution_count": 45,
     "metadata": {},
     "output_type": "execute_result"
    }
   ],
   "source": [
    "selectedFeatures_copy['PSENELSE'].value_counts()"
   ]
  },
  {
   "cell_type": "code",
   "execution_count": 46,
   "metadata": {},
   "outputs": [
    {
     "data": {
      "text/plain": [
       "<AxesSubplot:xlabel='PSENELSE', ylabel='Density'>"
      ]
     },
     "execution_count": 46,
     "metadata": {},
     "output_type": "execute_result"
    },
    {
     "data": {
      "image/png": "[encoded data removed]",
      "text/plain": [
       "<Figure size 1152x432 with 1 Axes>"
      ]
     },
     "metadata": {},
     "output_type": "display_data"
    }
   ],
   "source": [
    "fig, ax = plt.subplots(figsize = (16,6))\n",
    "sns.distplot(selectedFeatures_copy['PSENELSE'], rug=True, ax=ax)"
   ]
  },
  {
   "cell_type": "code",
   "execution_count": 47,
   "metadata": {},
   "outputs": [
    {
     "data": {
      "text/plain": [
       "<AxesSubplot:xlabel='PPERSABS10', ylabel='Density'>"
      ]
     },
     "execution_count": 47,
     "metadata": {},
     "output_type": "execute_result"
    },
    {
     "data": {
      "image/png": "[encoded data removed]",
      "text/plain": [
       "<Figure size 1152x432 with 1 Axes>"
      ]
     },
     "metadata": {},
     "output_type": "display_data"
    }
   ],
   "source": [
    "## 4. PPERSABS10\n",
    "fig, ax = plt.subplots(figsize = (16,6))\n",
    "sns.distplot(selectedFeatures_copy['PPERSABS10'], rug=True, ax=ax)\n",
    "## We can binning here also"
   ]
  },
  {
   "cell_type": "code",
   "execution_count": 48,
   "metadata": {},
   "outputs": [],
   "source": [
    "selectedFeatures_copy['PPERSABS10'] = pd.cut(selectedFeatures_copy['PPERSABS10'], bins=6,labels=range(1,7))"
   ]
  },
  {
   "cell_type": "code",
   "execution_count": 49,
   "metadata": {},
   "outputs": [
    {
     "data": {
      "text/plain": [
       "2    2644\n",
       "1    1606\n",
       "3     199\n",
       "4      72\n",
       "5      41\n",
       "6      23\n",
       "Name: PPERSABS10, dtype: int64"
      ]
     },
     "execution_count": 49,
     "metadata": {},
     "output_type": "execute_result"
    }
   ],
   "source": [
    "selectedFeatures_copy['PPERSABS10'].value_counts()"
   ]
  },
  {
   "cell_type": "code",
   "execution_count": 50,
   "metadata": {},
   "outputs": [
    {
     "data": {
      "text/plain": [
       "<AxesSubplot:xlabel='PPERSABS10', ylabel='Density'>"
      ]
     },
     "execution_count": 50,
     "metadata": {},
     "output_type": "execute_result"
    },
    {
     "data": {
      "image/png": "[encoded data removed]",
      "text/plain": [
       "<Figure size 1152x432 with 1 Axes>"
      ]
     },
     "metadata": {},
     "output_type": "display_data"
    }
   ],
   "source": [
    "fig, ax = plt.subplots(figsize = (16,6))\n",
    "sns.distplot(selectedFeatures_copy['PPERSABS10'], rug=True, ax=ax)"
   ]
  },
  {
   "cell_type": "code",
   "execution_count": 51,
   "metadata": {},
   "outputs": [],
   "source": [
    "X = selectedFeatures_copy.values\n",
    "y = combined_ofsted_df['Rating'].values.reshape(-1,1)"
   ]
  },
  {
   "cell_type": "code",
   "execution_count": 52,
   "metadata": {},
   "outputs": [],
   "source": [
    "min_max_scaler = preprocessing.MinMaxScaler()\n",
    "X_Min_Max = min_max_scaler.fit_transform(X)"
   ]
  },
  {
   "cell_type": "code",
   "execution_count": 53,
   "metadata": {},
   "outputs": [
    {
     "data": {
      "text/html": [
       "<div>\n",
       "<style scoped>\n",
       "    .dataframe tbody tr th:only-of-type {\n",
       "        vertical-align: middle;\n",
       "    }\n",
       "\n",
       "    .dataframe tbody tr th {\n",
       "        vertical-align: top;\n",
       "    }\n",
       "\n",
       "    .dataframe thead th {\n",
       "        text-align: right;\n",
       "    }\n",
       "</style>\n",
       "<table border=\"1\" class=\"dataframe\">\n",
       "  <thead>\n",
       "    <tr style=\"text-align: right;\">\n",
       "      <th></th>\n",
       "      <th>model</th>\n",
       "      <th>feature_engineering</th>\n",
       "      <th>all_features_Scaled</th>\n",
       "      <th>all_features_Min_Max</th>\n",
       "      <th>all_features</th>\n",
       "      <th>new_features</th>\n",
       "      <th>baseline</th>\n",
       "    </tr>\n",
       "  </thead>\n",
       "  <tbody>\n",
       "    <tr>\n",
       "      <th>1</th>\n",
       "      <td>Logistic</td>\n",
       "      <td>0.648637</td>\n",
       "      <td>0.644711</td>\n",
       "      <td>0.647546</td>\n",
       "      <td>0.644275</td>\n",
       "      <td>0.639477</td>\n",
       "      <td>0.603272</td>\n",
       "    </tr>\n",
       "    <tr>\n",
       "      <th>2</th>\n",
       "      <td>Linear SVM</td>\n",
       "      <td>0.646238</td>\n",
       "      <td>0.647546</td>\n",
       "      <td>0.648419</td>\n",
       "      <td>0.556598</td>\n",
       "      <td>0.588441</td>\n",
       "      <td>0.580807</td>\n",
       "    </tr>\n",
       "    <tr>\n",
       "      <th>3</th>\n",
       "      <td>Non-Linear SVM</td>\n",
       "      <td>0.644275</td>\n",
       "      <td>0.646456</td>\n",
       "      <td>0.651254</td>\n",
       "      <td>0.595202</td>\n",
       "      <td>0.596947</td>\n",
       "      <td>0.593675</td>\n",
       "    </tr>\n",
       "    <tr>\n",
       "      <th>4</th>\n",
       "      <td>MultinomialNB</td>\n",
       "      <td>0.622683</td>\n",
       "      <td>NaN</td>\n",
       "      <td>0.620502</td>\n",
       "      <td>0.328026</td>\n",
       "      <td>0.312759</td>\n",
       "      <td>0.296183</td>\n",
       "    </tr>\n",
       "    <tr>\n",
       "      <th>6</th>\n",
       "      <td>BernoulliNB</td>\n",
       "      <td>0.616140</td>\n",
       "      <td>0.547001</td>\n",
       "      <td>0.606979</td>\n",
       "      <td>0.596728</td>\n",
       "      <td>0.578408</td>\n",
       "      <td>0.589095</td>\n",
       "    </tr>\n",
       "    <tr>\n",
       "      <th>0</th>\n",
       "      <td>KNN</td>\n",
       "      <td>0.606325</td>\n",
       "      <td>0.604144</td>\n",
       "      <td>0.611778</td>\n",
       "      <td>0.584951</td>\n",
       "      <td>0.584079</td>\n",
       "      <td>0.568593</td>\n",
       "    </tr>\n",
       "    <tr>\n",
       "      <th>5</th>\n",
       "      <td>GaussianNB</td>\n",
       "      <td>0.329553</td>\n",
       "      <td>0.481352</td>\n",
       "      <td>0.481352</td>\n",
       "      <td>0.481352</td>\n",
       "      <td>0.451690</td>\n",
       "      <td>0.564449</td>\n",
       "    </tr>\n",
       "  </tbody>\n",
       "</table>\n",
       "</div>"
      ],
      "text/plain": [
       "            model  feature_engineering  all_features_Scaled  \\\n",
       "1        Logistic             0.648637             0.644711   \n",
       "2      Linear SVM             0.646238             0.647546   \n",
       "3  Non-Linear SVM             0.644275             0.646456   \n",
       "4   MultinomialNB             0.622683                  NaN   \n",
       "6     BernoulliNB             0.616140             0.547001   \n",
       "0             KNN             0.606325             0.604144   \n",
       "5      GaussianNB             0.329553             0.481352   \n",
       "\n",
       "   all_features_Min_Max  all_features  new_features  baseline  \n",
       "1              0.647546      0.644275      0.639477  0.603272  \n",
       "2              0.648419      0.556598      0.588441  0.580807  \n",
       "3              0.651254      0.595202      0.596947  0.593675  \n",
       "4              0.620502      0.328026      0.312759  0.296183  \n",
       "6              0.606979      0.596728      0.578408  0.589095  \n",
       "0              0.611778      0.584951      0.584079  0.568593  \n",
       "5              0.481352      0.481352      0.451690  0.564449  "
      ]
     },
     "execution_count": 53,
     "metadata": {},
     "output_type": "execute_result"
    }
   ],
   "source": [
    "accuracies = []\n",
    "for model in models:\n",
    "    scores = model_selection.cross_val_score(estimator=model, X=X_Min_Max, y=y, cv=cross_validator)\n",
    "    accuracies.append(np.mean(scores))\n",
    "results['feature_engineering'] = accuracies\n",
    "results.sort_values(by='feature_engineering', ascending=False)[['model','feature_engineering','all_features_Scaled','all_features_Min_Max','all_features','new_features','baseline']]\n",
    "##Logistic Regression accuracy enhanced after feature engineering"
   ]
  },
  {
   "cell_type": "markdown",
   "metadata": {},
   "source": [
    "# Parameter Tuning"
   ]
  },
  {
   "cell_type": "code",
   "execution_count": 54,
   "metadata": {},
   "outputs": [
    {
     "name": "stdout",
     "output_type": "stream",
     "text": [
      "best accuracy was  0.6372955288985823  with parameters: n = 13 , p = 3 , weights = uniform\n"
     ]
    }
   ],
   "source": [
    "neighbours = [3,5,7,9,11,13,15]\n",
    "ps = [1,2,3,4]\n",
    "weights = ['uniform','distance']\n",
    "best_n = best_p = 0\n",
    "best_weight = ''\n",
    "best_score = 0\n",
    "for n in neighbours:\n",
    "    for p in ps:\n",
    "        for weight in weights:\n",
    "            clf = neighbors.KNeighborsClassifier(n_neighbors=n, p=p, weights=weight)\n",
    "            scores = model_selection.cross_val_score(estimator=clf, X=X_Min_Max, y=y, cv=cross_validator)\n",
    "            if np.mean(scores) > best_score:\n",
    "                best_score = np.mean(scores)\n",
    "                best_n, best_p, best_weight = n, p, weight\n",
    "print('best accuracy was ', best_score, ' with parameters: n =', best_n, ', p =', best_p, ', weights =',best_weight)                "
   ]
  },
  {
   "cell_type": "code",
   "execution_count": 55,
   "metadata": {},
   "outputs": [
    {
     "name": "stdout",
     "output_type": "stream",
     "text": [
      "best accuracy was  0.6447110141766631  with C =  1325711.365590111\n"
     ]
    }
   ],
   "source": [
    "Cs = np.logspace(start=-100, stop=100, num=50)\n",
    "best_C = 0.0\n",
    "best_score = 0\n",
    "for C in Cs:\n",
    "    clf = linear_model.LogisticRegression(solver='lbfgs', multi_class='auto', max_iter=9999, C=C)\n",
    "    scores = model_selection.cross_val_score(estimator=clf, X=X_Min_Max, y=y, cv=cross_validator)\n",
    "    if np.mean(scores) > best_score:\n",
    "        best_score = np.mean(scores)\n",
    "        best_C = C\n",
    "print('best accuracy was ', best_score, ' with C = ', best_C)                "
   ]
  },
  {
   "cell_type": "markdown",
   "metadata": {},
   "source": [
    "# Feature Selection Tasks"
   ]
  },
  {
   "cell_type": "markdown",
   "metadata": {},
   "source": [
    "13. Write a short paragraph describing the difference between filter and wrapper methods for feature selection and evaluating their advantages and disadvantages."
   ]
  },
  {
   "cell_type": "markdown",
   "metadata": {},
   "source": [
    "Wrapper methods measure the “usefulness” of features based on the classifier performance. In contrast, the filter methods pick up the intrinsic properties of the features (i.e., the “relevance” of the features) measured via univariate statistics instead of cross-validation performance. So, wrapper methods are essentially solving the “real” problem (optimizing the classifier performance), but they are also computationally more expensive compared to filter methods due to the repeated learning steps and cross-validation."
   ]
  },
  {
   "cell_type": "code",
   "execution_count": 56,
   "metadata": {},
   "outputs": [],
   "source": [
    "## First I'm going to make copy of current Features\n",
    "selectedFeatures_copy2 = selectedFeatures_copy.copy()"
   ]
  },
  {
   "cell_type": "markdown",
   "metadata": {},
   "source": [
    "14. Describe three filter methods, choose one and apply it. Estimate the accuracy of your classifiers with your chosen filter method."
   ]
  },
  {
   "cell_type": "markdown",
   "metadata": {},
   "source": [
    "Filter methods are generally used as a preprocessing step. The selection of features is independent of any machine learning algorithms. Instead, features are selected on the basis of their scores in various statistical tests for their correlation with the outcome variable. The correlation is a subjective term here."
   ]
  },
  {
   "cell_type": "markdown",
   "metadata": {},
   "source": [
    "**Filter methods:**\n",
    "1. information gain or mutual information\n",
    "2. chi-square test\n",
    "3. fisher score\n",
    "4. correlation coefficient\n",
    "5. variance threshold\n",
    "\n",
    "I'm going to use mutual information i.e. mutual_info_classif"
   ]
  },
  {
   "cell_type": "code",
   "execution_count": 57,
   "metadata": {},
   "outputs": [
    {
     "name": "stdout",
     "output_type": "stream",
     "text": [
      "   num_features       knn  logistic\n",
      "3             4  0.633152  0.637077\n",
      "    num_features       knn  logistic\n",
      "10            11  0.605453  0.646892\n"
     ]
    }
   ],
   "source": [
    "knn = neighbors.KNeighborsClassifier(n_neighbors=13, p=3, weights='distance')\n",
    "logistic = linear_model.LogisticRegression(solver='lbfgs', multi_class='auto', max_iter=9999, C=best_C)\n",
    "knn_scores = []\n",
    "log_scores= []\n",
    "ks = [1,2,3,4,5,6,7,8,9,10,11]\n",
    "for k in ks:\n",
    "    SKB = feature_selection.SelectKBest(score_func=feature_selection.mutual_info_classif, k=k)\n",
    "    X_sel = SKB.fit_transform(X_Min_Max, y)\n",
    "    scores = model_selection.cross_val_score(knn, X_sel, y, cv=cross_validator)\n",
    "    knn_scores.append(np.mean(scores))\n",
    "    scores = model_selection.cross_val_score(logistic, X_sel, y, cv=cross_validator)\n",
    "    log_scores.append(np.mean(scores))\n",
    "fs_df = pd.DataFrame({'num_features':ks, 'knn':knn_scores, 'logistic':log_scores})\n",
    "print(fs_df.sort_values(by='knn', ascending=False).head(1))\n",
    "print(fs_df.sort_values(by='logistic', ascending=False).head(1))"
   ]
  },
  {
   "cell_type": "markdown",
   "metadata": {},
   "source": [
    "15. Choose a classifier and apply the wrapper method for feature selection. Estimate the accuracy of your chosen classifier."
   ]
  },
  {
   "cell_type": "markdown",
   "metadata": {},
   "source": [
    "In wrapper methods, we try to use a subset of features and train a model using them. Based on the inferences that we draw from the previous model, we decide to add or remove features from your subset. The problem is essentially reduced to a search problem. These methods are usually computationally very expensive.\n",
    "\n",
    "1. recursive feature elimination\n",
    "2. sequential feature selection algorithms\n",
    "3. genetic algorithms\n",
    "\n",
    "I'm going to use Sequential Feature Selection(SFS)"
   ]
  },
  {
   "cell_type": "code",
   "execution_count": 58,
   "metadata": {},
   "outputs": [],
   "source": [
    "knn = neighbors.KNeighborsClassifier(n_neighbors=13, p=3, weights='distance')\n",
    "sfs = SFS(knn, \n",
    "           k_features=3, \n",
    "           forward=True, \n",
    "           floating=False, \n",
    "           verbose=2,\n",
    "           scoring='accuracy',\n",
    "           cv=5)"
   ]
  },
  {
   "cell_type": "code",
   "execution_count": 59,
   "metadata": {},
   "outputs": [
    {
     "name": "stderr",
     "output_type": "stream",
     "text": [
      "[Parallel(n_jobs=1)]: Using backend SequentialBackend with 1 concurrent workers.\n",
      "[Parallel(n_jobs=1)]: Done   1 out of   1 | elapsed:    0.0s remaining:    0.0s\n",
      "[Parallel(n_jobs=1)]: Done  33 out of  33 | elapsed:   11.8s finished\n",
      "\n",
      "[2021-05-17 20:47:16] Features: 1/3 -- score: 0.6008724100327154[Parallel(n_jobs=1)]: Using backend SequentialBackend with 1 concurrent workers.\n",
      "[Parallel(n_jobs=1)]: Done   1 out of   1 | elapsed:    0.1s remaining:    0.0s\n",
      "[Parallel(n_jobs=1)]: Done  32 out of  32 | elapsed:   10.8s finished\n",
      "\n",
      "[2021-05-17 20:47:27] Features: 2/3 -- score: 0.6333696837513632[Parallel(n_jobs=1)]: Using backend SequentialBackend with 1 concurrent workers.\n",
      "[Parallel(n_jobs=1)]: Done   1 out of   1 | elapsed:    0.2s remaining:    0.0s\n",
      "[Parallel(n_jobs=1)]: Done  31 out of  31 | elapsed:   14.3s finished\n",
      "\n",
      "[2021-05-17 20:47:42] Features: 3/3 -- score: 0.6396946564885496"
     ]
    },
    {
     "data": {
      "text/plain": [
       "{1: {'feature_idx': (18,),\n",
       "  'cv_scores': array([0.60523446, 0.56815703, 0.58342421, 0.61504907, 0.63249727]),\n",
       "  'avg_score': 0.6008724100327154,\n",
       "  'feature_names': ('P8_BANDING',)},\n",
       " 2: {'feature_idx': (14, 18),\n",
       "  'cv_scores': array([0.63140676, 0.61177754, 0.61832061, 0.65866957, 0.64667394]),\n",
       "  'avg_score': 0.6333696837513632,\n",
       "  'feature_names': ('ATT8SCR', 'P8_BANDING')},\n",
       " 3: {'feature_idx': (14, 16, 18),\n",
       "  'cv_scores': array([0.64449291, 0.60523446, 0.64122137, 0.66412214, 0.6434024 ]),\n",
       "  'avg_score': 0.6396946564885496,\n",
       "  'feature_names': ('ATT8SCR', 'P8CILOW', 'P8_BANDING')}}"
      ]
     },
     "execution_count": 59,
     "metadata": {},
     "output_type": "execute_result"
    }
   ],
   "source": [
    "feature_names = selectedFeatures_copy2.columns\n",
    "sfs = sfs.fit(X_Min_Max, y, custom_feature_names=feature_names)\n",
    "sfs.subsets_"
   ]
  },
  {
   "cell_type": "code",
   "execution_count": 60,
   "metadata": {},
   "outputs": [
    {
     "data": {
      "text/plain": [
       "('ATT8SCR', 'P8CILOW', 'P8_BANDING')"
      ]
     },
     "execution_count": 60,
     "metadata": {},
     "output_type": "execute_result"
    }
   ],
   "source": [
    "sfs.k_feature_names_"
   ]
  },
  {
   "cell_type": "code",
   "execution_count": 61,
   "metadata": {},
   "outputs": [
    {
     "data": {
      "text/plain": [
       "0.6396946564885496"
      ]
     },
     "execution_count": 61,
     "metadata": {},
     "output_type": "execute_result"
    }
   ],
   "source": [
    "sfs.k_score_"
   ]
  },
  {
   "cell_type": "code",
   "execution_count": 62,
   "metadata": {},
   "outputs": [
    {
     "data": {
      "image/png": "[encoded data removed]",
      "text/plain": [
       "<Figure size 432x288 with 1 Axes>"
      ]
     },
     "metadata": {},
     "output_type": "display_data"
    }
   ],
   "source": [
    "from mlxtend.plotting import plot_sequential_feature_selection as plot_sfs\n",
    "fig1 = plot_sfs(sfs.get_metric_dict(), kind='std_dev')\n",
    "\n",
    "# plt.ylim([0.8, 1])\n",
    "# plt.title('Sequential Forward Selection (w. StdDev)')\n",
    "# plt.grid()\n",
    "# plt.show()"
   ]
  }
 ],
 "metadata": {
  "kernelspec": {
   "display_name": "Python 3",
   "language": "python",
   "name": "python3"
  },
  "language_info": {
   "codemirror_mode": {
    "name": "ipython",
    "version": 3
   },
   "file_extension": ".py",
   "mimetype": "text/x-python",
   "name": "python",
   "nbconvert_exporter": "python",
   "pygments_lexer": "ipython3",
   "version": "3.7.4"
  }
 },
 "nbformat": 4,
 "nbformat_minor": 4
}

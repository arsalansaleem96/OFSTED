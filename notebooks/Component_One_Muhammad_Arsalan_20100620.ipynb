{
 "cells": [
  {
   "cell_type": "code",
   "execution_count": 1,
   "metadata": {
    "id": "ALfssqV0gm8f"
   },
   "outputs": [],
   "source": [
    "import pandas as pd\n",
    "import numpy as np\n",
    "import matplotlib.pyplot as plt\n",
    "import seaborn as sns\n",
    "sns.set()\n",
    "import warnings\n",
    "warnings.filterwarnings('ignore')\n",
    "import os "
   ]
  },
  {
   "cell_type": "markdown",
   "metadata": {
    "id": "HxKtzT8ky49u"
   },
   "source": [
    "# Data Preparation Tasks:"
   ]
  },
  {
   "cell_type": "markdown",
   "metadata": {},
   "source": [
    "## Loading and Joining Raw data"
   ]
  },
  {
   "cell_type": "code",
   "execution_count": 2,
   "metadata": {},
   "outputs": [
    {
     "name": "stdout",
     "output_type": "stream",
     "text": [
      "C:\\Users\\arsal\\opencv\\Scripts\\OFSTED\\notebooks\n"
     ]
    }
   ],
   "source": [
    "print(os.getcwd())"
   ]
  },
  {
   "cell_type": "code",
   "execution_count": 3,
   "metadata": {},
   "outputs": [],
   "source": [
    "os.chdir('../data/raw')"
   ]
  },
  {
   "cell_type": "code",
   "execution_count": 4,
   "metadata": {},
   "outputs": [
    {
     "name": "stdout",
     "output_type": "stream",
     "text": [
      "C:\\Users\\arsal\\opencv\\Scripts\\OFSTED\\data\\raw\n"
     ]
    }
   ],
   "source": [
    "print(os.getcwd())\n",
    "current_dir = os.getcwd()"
   ]
  },
  {
   "cell_type": "code",
   "execution_count": 5,
   "metadata": {},
   "outputs": [],
   "source": [
    "england_school_information_df = pd.read_excel(current_dir + '/england_school_information.xlsx')"
   ]
  },
  {
   "cell_type": "code",
   "execution_count": 6,
   "metadata": {
    "colab": {
     "base_uri": "https://localhost:8080/"
    },
    "id": "qnrn0kRvhCg6",
    "outputId": "d06a209b-77d8-4139-957e-4628792ad8f1"
   },
   "outputs": [
    {
     "data": {
      "text/plain": [
       "(6396, 4)"
      ]
     },
     "execution_count": 6,
     "metadata": {},
     "output_type": "execute_result"
    }
   ],
   "source": [
    "reduce_list = ['URN','LA', 'GENDER', 'RELCHAR']\n",
    "england_school_information_df = england_school_information_df.loc[england_school_information_df['ISSECONDARY'] == 1]\n",
    "england_school_information_df = england_school_information_df[reduce_list]\n",
    "england_school_information_df.shape"
   ]
  },
  {
   "cell_type": "code",
   "execution_count": 7,
   "metadata": {
    "colab": {
     "base_uri": "https://localhost:8080/"
    },
    "id": "4GZ15pBIz7BN",
    "outputId": "b5232cae-a88d-4e65-8a1a-274275801137"
   },
   "outputs": [],
   "source": [
    "england_census_df = pd.read_excel(current_dir + '/england_census.xlsx')"
   ]
  },
  {
   "cell_type": "code",
   "execution_count": 8,
   "metadata": {
    "id": "rt792vJt4VIb"
   },
   "outputs": [],
   "source": [
    "# total number of students in each school\n",
    "england_census_df['PNUMFSM'] = england_census_df['NUMFSM'] / england_census_df['NOR'] * 100\n",
    "percentage_col = [col for col in england_census_df if col.startswith('P')]\n",
    "attributesList = ['URN','LA'] + percentage_col"
   ]
  },
  {
   "cell_type": "code",
   "execution_count": 9,
   "metadata": {
    "colab": {
     "base_uri": "https://localhost:8080/"
    },
    "id": "7Gk-ie1SzKN0",
    "outputId": "fd9aef89-4231-40d0-cca5-5a636f1ad08e"
   },
   "outputs": [
    {
     "data": {
      "text/plain": [
       "(23942, 11)"
      ]
     },
     "execution_count": 9,
     "metadata": {},
     "output_type": "execute_result"
    }
   ],
   "source": [
    "england_census_df = england_census_df[attributesList] # cut down data frame\n",
    "england_census_df.shape"
   ]
  },
  {
   "cell_type": "code",
   "execution_count": 10,
   "metadata": {
    "colab": {
     "base_uri": "https://localhost:8080/"
    },
    "id": "8ihVbv_68nZX",
    "outputId": "803eba81-0f7e-4ef9-f6c6-c5e84e602d1a"
   },
   "outputs": [],
   "source": [
    "england_abs_df = pd.read_excel(current_dir + '/england_abs.xlsx')"
   ]
  },
  {
   "cell_type": "code",
   "execution_count": 11,
   "metadata": {
    "colab": {
     "base_uri": "https://localhost:8080/"
    },
    "id": "JTamRiLV9DaR",
    "outputId": "80524bd4-fd5e-4050-953e-9f38d0e3e743"
   },
   "outputs": [
    {
     "data": {
      "text/plain": [
       "(21217, 4)"
      ]
     },
     "execution_count": 11,
     "metadata": {},
     "output_type": "execute_result"
    }
   ],
   "source": [
    "england_abs_df.drop(columns=['ESTAB'],inplace=True)\n",
    "england_abs_df.shape"
   ]
  },
  {
   "cell_type": "code",
   "execution_count": 12,
   "metadata": {
    "colab": {
     "base_uri": "https://localhost:8080/"
    },
    "id": "51pFj8Ov-GdM",
    "outputId": "274503f9-6755-4388-f260-8fcfee9bf42e"
   },
   "outputs": [],
   "source": [
    "england_ks4provisional_df = pd.read_excel(current_dir + '/england_ks4provisional.xlsx')"
   ]
  },
  {
   "cell_type": "code",
   "execution_count": 13,
   "metadata": {
    "colab": {
     "base_uri": "https://localhost:8080/"
    },
    "id": "3LWJLZi8-dHI",
    "outputId": "155b87e3-cbb3-4364-86f0-78638885acbf"
   },
   "outputs": [
    {
     "data": {
      "text/plain": [
       "(5652, 16)"
      ]
     },
     "execution_count": 13,
     "metadata": {},
     "output_type": "execute_result"
    }
   ],
   "source": [
    "columnList = ['URN', 'LEA', 'TPUP', 'P8PUP', 'ATT8SCR', 'P8MEA', 'P8CILOW', 'P8CIUPP', 'EBACCAPS', 'PTL2BASICS_94', 'PTL2BASICS_95', 'PTEBACC_E_PTQ_EE', 'PTEBACC_94', 'PTEBACC_95', 'PT5EM_94','P8_BANDING']\n",
    "england_ks4provisional_df = england_ks4provisional_df[columnList]\n",
    "england_ks4provisional_df.shape"
   ]
  },
  {
   "cell_type": "code",
   "execution_count": 14,
   "metadata": {
    "colab": {
     "base_uri": "https://localhost:8080/"
    },
    "id": "8uv_6oV1_Ydw",
    "outputId": "6538e28a-31f6-4db9-d3b8-58ee913baf45"
   },
   "outputs": [],
   "source": [
    "england_ks4_pupdes_df = pd.read_excel(current_dir + '/england_ks4-pupdest.xlsx')"
   ]
  },
  {
   "cell_type": "code",
   "execution_count": 15,
   "metadata": {
    "colab": {
     "base_uri": "https://localhost:8080/"
    },
    "id": "OUIInJqrABtK",
    "outputId": "8b1b8bc7-e34e-4a48-e9ea-ea8a6ecfbcc9"
   },
   "outputs": [
    {
     "data": {
      "text/plain": [
       "(3877, 8)"
      ]
     },
     "execution_count": 15,
     "metadata": {},
     "output_type": "execute_result"
    }
   ],
   "source": [
    "england_ks4_pupdes_df = england_ks4_pupdes_df[['URN', 'LEA', 'OVERALL_DESTPER', 'NOT_SUSTAINEDPER', 'UNKNOWNPER', 'OVERALL_DESTPER_DIS', 'NOT_SUSTAINEDPER_DIS','UNKNOWNPER_DIS']]\n",
    "england_ks4_pupdes_df.shape"
   ]
  },
  {
   "cell_type": "markdown",
   "metadata": {
    "id": "YTFm_TFBVQbd"
   },
   "source": [
    "Merging of **english_school_information** and **england_census** as **merge_df**"
   ]
  },
  {
   "cell_type": "code",
   "execution_count": 16,
   "metadata": {
    "colab": {
     "base_uri": "https://localhost:8080/"
    },
    "id": "pThO65lISr_x",
    "outputId": "b7813492-9169-452d-8839-6f4b5d229096"
   },
   "outputs": [
    {
     "data": {
      "text/plain": [
       "(6396, 13)"
      ]
     },
     "execution_count": 16,
     "metadata": {},
     "output_type": "execute_result"
    }
   ],
   "source": [
    "merge_df1 = pd.merge(england_school_information_df,england_census_df, how='left', on=['URN','LA'])\n",
    "merge_df1.shape"
   ]
  },
  {
   "cell_type": "markdown",
   "metadata": {
    "id": "aKVf7uwiV-et"
   },
   "source": [
    "Merging:\n",
    "**merge_df1** with **england_abs** as **merge_df2**"
   ]
  },
  {
   "cell_type": "code",
   "execution_count": 17,
   "metadata": {
    "colab": {
     "base_uri": "https://localhost:8080/"
    },
    "id": "cDQu9MpuWH1b",
    "outputId": "d17e45d2-537c-49a4-d878-c4df7a37864e"
   },
   "outputs": [
    {
     "data": {
      "text/plain": [
       "(6396, 15)"
      ]
     },
     "execution_count": 17,
     "metadata": {},
     "output_type": "execute_result"
    }
   ],
   "source": [
    "merge_df2 = pd.merge(merge_df1,england_abs_df , how='left', on=['URN','LA'])\n",
    "merge_df2.shape"
   ]
  },
  {
   "cell_type": "markdown",
   "metadata": {
    "id": "y9qPBPopXC4Z"
   },
   "source": [
    "Merging:\n",
    "**merge_df2** with **england_ks4provisional** as **merge_df3**"
   ]
  },
  {
   "cell_type": "code",
   "execution_count": 18,
   "metadata": {
    "colab": {
     "base_uri": "https://localhost:8080/"
    },
    "id": "VqZ0Hog8XJMp",
    "outputId": "db81f844-9c81-4b11-ed14-6d47c2d3eb5e"
   },
   "outputs": [
    {
     "data": {
      "text/plain": [
       "(6396, 30)"
      ]
     },
     "execution_count": 18,
     "metadata": {},
     "output_type": "execute_result"
    }
   ],
   "source": [
    "merge_df3 = pd.merge(merge_df2,england_ks4provisional_df , how='left', on=['URN'])\n",
    "merge_df3.shape"
   ]
  },
  {
   "cell_type": "markdown",
   "metadata": {
    "id": "3npVCNq_XdZ4"
   },
   "source": [
    "Merging:\n",
    "**merge_df3** with **england_ks4-pupdest** as **merge_df4**"
   ]
  },
  {
   "cell_type": "code",
   "execution_count": 19,
   "metadata": {
    "colab": {
     "base_uri": "https://localhost:8080/",
     "height": 373
    },
    "id": "1hKWjPVsXito",
    "outputId": "972e3db2-3090-4a2d-d514-3df45dbe761c"
   },
   "outputs": [
    {
     "data": {
      "text/plain": [
       "(6396, 36)"
      ]
     },
     "execution_count": 19,
     "metadata": {},
     "output_type": "execute_result"
    }
   ],
   "source": [
    "merge_df4 = pd.merge(merge_df3,england_ks4_pupdes_df, how='left', on=['URN','LEA'])\n",
    "merge_df4.shape"
   ]
  },
  {
   "cell_type": "code",
   "execution_count": 20,
   "metadata": {},
   "outputs": [
    {
     "data": {
      "text/plain": [
       "Index(['URN', 'LA', 'GENDER', 'RELCHAR', 'PNORG', 'PNORB', 'PSENELSE',\n",
       "       'PSENELK', 'PNUMEAL', 'PNUMENGFL', 'PNUMUNCFL', 'PNUMFSMEVER',\n",
       "       'PNUMFSM', 'PERCTOT', 'PPERSABS10', 'LEA', 'TPUP', 'P8PUP', 'ATT8SCR',\n",
       "       'P8MEA', 'P8CILOW', 'P8CIUPP', 'EBACCAPS', 'PTL2BASICS_94',\n",
       "       'PTL2BASICS_95', 'PTEBACC_E_PTQ_EE', 'PTEBACC_94', 'PTEBACC_95',\n",
       "       'PT5EM_94', 'P8_BANDING', 'OVERALL_DESTPER', 'NOT_SUSTAINEDPER',\n",
       "       'UNKNOWNPER', 'OVERALL_DESTPER_DIS', 'NOT_SUSTAINEDPER_DIS',\n",
       "       'UNKNOWNPER_DIS'],\n",
       "      dtype='object')"
      ]
     },
     "execution_count": 20,
     "metadata": {},
     "output_type": "execute_result"
    }
   ],
   "source": [
    "merge_df4.columns"
   ]
  },
  {
   "cell_type": "code",
   "execution_count": 21,
   "metadata": {
    "colab": {
     "base_uri": "https://localhost:8080/"
    },
    "id": "b6EE4vbmi7H7",
    "outputId": "de21cc0b-c3fa-412f-9f92-12839b53e4a3"
   },
   "outputs": [
    {
     "data": {
      "text/plain": [
       "(6396, 2)"
      ]
     },
     "execution_count": 21,
     "metadata": {},
     "output_type": "execute_result"
    }
   ],
   "source": [
    "ofsted_ratings_df = pd.read_excel(current_dir + '/OFSTED Ratings.xlsx')\n",
    "ofsted_ratings_df.shape"
   ]
  },
  {
   "cell_type": "markdown",
   "metadata": {
    "id": "XLVNm-C7i-ni"
   },
   "source": [
    "Merging:\n",
    "**merge_df4** with **OFSTED Ratings** as **merge_df5**"
   ]
  },
  {
   "cell_type": "code",
   "execution_count": 22,
   "metadata": {
    "colab": {
     "base_uri": "https://localhost:8080/",
     "height": 373
    },
    "id": "IT3PKLbXjgtT",
    "outputId": "395e5faa-767c-49d9-e8b0-0f0910378dd8"
   },
   "outputs": [
    {
     "data": {
      "text/plain": [
       "(6396, 37)"
      ]
     },
     "execution_count": 22,
     "metadata": {},
     "output_type": "execute_result"
    }
   ],
   "source": [
    "merge_df5 = pd.merge(merge_df4,ofsted_ratings_df, how='inner', on='URN')\n",
    "merge_df5.shape"
   ]
  },
  {
   "cell_type": "code",
   "execution_count": 23,
   "metadata": {},
   "outputs": [
    {
     "data": {
      "text/plain": [
       "Index(['URN', 'LA', 'GENDER', 'RELCHAR', 'PNORG', 'PNORB', 'PSENELSE',\n",
       "       'PSENELK', 'PNUMEAL', 'PNUMENGFL', 'PNUMUNCFL', 'PNUMFSMEVER',\n",
       "       'PNUMFSM', 'PERCTOT', 'PPERSABS10', 'LEA', 'TPUP', 'P8PUP', 'ATT8SCR',\n",
       "       'P8MEA', 'P8CILOW', 'P8CIUPP', 'EBACCAPS', 'PTL2BASICS_94',\n",
       "       'PTL2BASICS_95', 'PTEBACC_E_PTQ_EE', 'PTEBACC_94', 'PTEBACC_95',\n",
       "       'PT5EM_94', 'P8_BANDING', 'OVERALL_DESTPER', 'NOT_SUSTAINEDPER',\n",
       "       'UNKNOWNPER', 'OVERALL_DESTPER_DIS', 'NOT_SUSTAINEDPER_DIS',\n",
       "       'UNKNOWNPER_DIS', 'Rating'],\n",
       "      dtype='object')"
      ]
     },
     "execution_count": 23,
     "metadata": {},
     "output_type": "execute_result"
    }
   ],
   "source": [
    "merge_df5.columns"
   ]
  },
  {
   "cell_type": "code",
   "execution_count": 24,
   "metadata": {},
   "outputs": [
    {
     "name": "stdout",
     "output_type": "stream",
     "text": [
      "Index(['Extra column in my merging: LEA'], dtype='object')\n",
      "(6396, 36)\n"
     ]
    }
   ],
   "source": [
    "combined_ofsted_df = pd.read_excel(current_dir + '/Combined OFSTED data.xlsx')\n",
    "print('Extra column in my merging: ' + merge_df5.columns[(merge_df5.columns.isin(combined_ofsted_df)) == False])\n",
    "print(combined_ofsted_df.shape)"
   ]
  },
  {
   "cell_type": "markdown",
   "metadata": {},
   "source": [
    "## Missing values by Columns "
   ]
  },
  {
   "cell_type": "markdown",
   "metadata": {},
   "source": [
    "The results confirms only four attributes are not missing any data i.e. URN,LA,GENDER,Rating as mentioned."
   ]
  },
  {
   "cell_type": "code",
   "execution_count": 25,
   "metadata": {},
   "outputs": [
    {
     "name": "stdout",
     "output_type": "stream",
     "text": [
      "<class 'pandas.core.frame.DataFrame'>\n",
      "RangeIndex: 6396 entries, 0 to 6395\n",
      "Data columns (total 36 columns):\n",
      " #   Column                Non-Null Count  Dtype  \n",
      "---  ------                --------------  -----  \n",
      " 0   URN                   6396 non-null   int64  \n",
      " 1   LA                    6396 non-null   int64  \n",
      " 2   GENDER                6396 non-null   object \n",
      " 3   RELCHAR               6253 non-null   object \n",
      " 4   PNORG                 5532 non-null   float64\n",
      " 5   PNORB                 5532 non-null   float64\n",
      " 6   PSENELSE              5528 non-null   float64\n",
      " 7   PSENELK               5530 non-null   float64\n",
      " 8   PNUMEAL               4157 non-null   float64\n",
      " 9   PNUMENGFL             4157 non-null   float64\n",
      " 10  PNUMUNCFL             4157 non-null   float64\n",
      " 11  PNUMFSM               4157 non-null   float64\n",
      " 12  PNUMFSMEVER           4155 non-null   float64\n",
      " 13  PERCTOT               4170 non-null   float64\n",
      " 14  PPERSABS10            4170 non-null   object \n",
      " 15  TPUP                  3948 non-null   float64\n",
      " 16  P8PUP                 3948 non-null   object \n",
      " 17  ATT8SCR               3948 non-null   object \n",
      " 18  P8MEA                 3948 non-null   object \n",
      " 19  P8CILOW               3948 non-null   object \n",
      " 20  P8CIUPP               3948 non-null   object \n",
      " 21  EBACCAPS              3948 non-null   object \n",
      " 22  PTL2BASICS_94         3948 non-null   object \n",
      " 23  PTL2BASICS_95         3948 non-null   object \n",
      " 24  PTEBACC_E_PTQ_EE      3948 non-null   object \n",
      " 25  PTEBACC_94            3948 non-null   object \n",
      " 26  PTEBACC_95            3948 non-null   object \n",
      " 27  PT5EM_94              3948 non-null   object \n",
      " 28  P8_BANDING            3533 non-null   object \n",
      " 29  OVERALL_DESTPER       3728 non-null   object \n",
      " 30  NOT_SUSTAINEDPER      3728 non-null   object \n",
      " 31  UNKNOWNPER            3728 non-null   object \n",
      " 32  OVERALL_DESTPER_DIS   3728 non-null   object \n",
      " 33  NOT_SUSTAINEDPER_DIS  3728 non-null   object \n",
      " 34  UNKNOWNPER_DIS        3728 non-null   object \n",
      " 35  Rating                6396 non-null   object \n",
      "dtypes: float64(11), int64(2), object(23)\n",
      "memory usage: 1.8+ MB\n"
     ]
    }
   ],
   "source": [
    "combined_ofsted_df.info()"
   ]
  },
  {
   "cell_type": "markdown",
   "metadata": {},
   "source": [
    "9. With much of the data missing, we have to decide what to do next. Briefly explain in your notebook 3 options for handling the situation, evaluate them and apply your chosen solution to create a dataset with no missing values."
   ]
  },
  {
   "cell_type": "code",
   "execution_count": 26,
   "metadata": {},
   "outputs": [
    {
     "data": {
      "text/plain": [
       "URN                        0\n",
       "LA                         0\n",
       "GENDER                     0\n",
       "RELCHAR                  143\n",
       "PNORG                    864\n",
       "PNORB                    864\n",
       "PSENELSE                 868\n",
       "PSENELK                  866\n",
       "PNUMEAL                 2239\n",
       "PNUMENGFL               2239\n",
       "PNUMUNCFL               2239\n",
       "PNUMFSM                 2239\n",
       "PNUMFSMEVER             2241\n",
       "PERCTOT                 2226\n",
       "PPERSABS10              2226\n",
       "TPUP                    2448\n",
       "P8PUP                   2448\n",
       "ATT8SCR                 2448\n",
       "P8MEA                   2448\n",
       "P8CILOW                 2448\n",
       "P8CIUPP                 2448\n",
       "EBACCAPS                2448\n",
       "PTL2BASICS_94           2448\n",
       "PTL2BASICS_95           2448\n",
       "PTEBACC_E_PTQ_EE        2448\n",
       "PTEBACC_94              2448\n",
       "PTEBACC_95              2448\n",
       "PT5EM_94                2448\n",
       "P8_BANDING              2863\n",
       "OVERALL_DESTPER         2668\n",
       "NOT_SUSTAINEDPER        2668\n",
       "UNKNOWNPER              2668\n",
       "OVERALL_DESTPER_DIS     2668\n",
       "NOT_SUSTAINEDPER_DIS    2668\n",
       "UNKNOWNPER_DIS          2668\n",
       "Rating                     0\n",
       "dtype: int64"
      ]
     },
     "execution_count": 26,
     "metadata": {},
     "output_type": "execute_result"
    }
   ],
   "source": [
    "combined_ofsted_df.isna().sum()"
   ]
  },
  {
   "cell_type": "markdown",
   "metadata": {},
   "source": [
    "## Strategies to Handle Missing Values\n",
    "\n",
    "1) **Deleting Rows:** \n",
    "\n",
    "Missing values can be handled by deleting the rows or columns having null values.\n",
    "\n",
    "2) **Impute missing values with Mean/Median:**\n",
    "\n",
    "Columns in the dataset which are having numeric continuous values can be replaced with the mean, median, or mode of remaining values in the column. This method can prevent the loss of data compared to the earlier method.\n",
    "\n",
    "3) **Imputation method for categorical columns:**\n",
    "\n",
    "\n",
    "When missing values is from categorical columns (string or numerical) then the missing values can be replaced with the most frequent category or if the number of missing values is very large then it can be replaced with a new category.\n"
   ]
  },
  {
   "cell_type": "markdown",
   "metadata": {},
   "source": [
    "I'm going to make copy of orginal data and then I will perform this action:\n",
    "\n",
    "impute missing values with mean in PNORG column. After this I will compare with original column description"
   ]
  },
  {
   "cell_type": "code",
   "execution_count": 27,
   "metadata": {},
   "outputs": [],
   "source": [
    "mean_imputation_df = combined_ofsted_df.copy()\n",
    "mean_imputation_df['PNORG'] = mean_imputation_df['PNORG'].fillna(combined_ofsted_df['PNORG'].mean())"
   ]
  },
  {
   "cell_type": "code",
   "execution_count": 28,
   "metadata": {},
   "outputs": [
    {
     "data": {
      "text/plain": [
       "count    5532.000000\n",
       "mean       44.108008\n",
       "std        21.648989\n",
       "min         0.000000\n",
       "25%        35.300000\n",
       "50%        47.600000\n",
       "75%        50.500000\n",
       "max       100.000000\n",
       "Name: PNORG, dtype: float64"
      ]
     },
     "execution_count": 28,
     "metadata": {},
     "output_type": "execute_result"
    }
   ],
   "source": [
    "combined_ofsted_df['PNORG'].describe()"
   ]
  },
  {
   "cell_type": "code",
   "execution_count": 29,
   "metadata": {},
   "outputs": [
    {
     "data": {
      "text/plain": [
       "count    6396.000000\n",
       "mean       44.108008\n",
       "std        20.133495\n",
       "min         0.000000\n",
       "25%        39.200000\n",
       "50%        46.000000\n",
       "75%        50.000000\n",
       "max       100.000000\n",
       "Name: PNORG, dtype: float64"
      ]
     },
     "execution_count": 29,
     "metadata": {},
     "output_type": "execute_result"
    }
   ],
   "source": [
    "mean_imputation_df['PNORG'].describe()\n",
    "## after imputing missing data with mean it will change standard deviation and quartile values will be change\n",
    "##but mean will remain same "
   ]
  },
  {
   "cell_type": "code",
   "execution_count": 30,
   "metadata": {},
   "outputs": [
    {
     "data": {
      "text/plain": [
       "<matplotlib.legend.Legend at 0x257c2bf2588>"
      ]
     },
     "execution_count": 30,
     "metadata": {},
     "output_type": "execute_result"
    },
    {
     "data": {
      "image/png": "[encoded data removed]",
      "text/plain": [
       "<Figure size 864x432 with 1 Axes>"
      ]
     },
     "metadata": {},
     "output_type": "display_data"
    }
   ],
   "source": [
    "fig, ax = plt.subplots(figsize=(12,6))\n",
    "sns.distplot(combined_ofsted_df['PNORG'], ax=ax, hist=False, label='Original PNORG')\n",
    "sns.distplot(mean_imputation_df['PNORG'], ax=ax, hist=False, label='Mean Imputed PNORG')\n",
    "ax.legend(fontsize=18)\n",
    "\n",
    "## Both left and right side are close-ish, but the significant differences are around the middle — as you can see."
   ]
  },
  {
   "cell_type": "markdown",
   "metadata": {},
   "source": [
    "Now going to impute mean all the columns all the columns"
   ]
  },
  {
   "cell_type": "code",
   "execution_count": 31,
   "metadata": {},
   "outputs": [],
   "source": [
    "float_df = combined_ofsted_df.loc[:,combined_ofsted_df.dtypes == float]\n",
    "combined_ofsted_df[float_df.columns] = combined_ofsted_df.filter(float_df.columns).fillna(float_df.mean())"
   ]
  },
  {
   "cell_type": "code",
   "execution_count": 32,
   "metadata": {},
   "outputs": [],
   "source": [
    "object_df = combined_ofsted_df.loc[:,combined_ofsted_df.dtypes == object].drop(columns=['GENDER','RELCHAR','Rating'])\n",
    "object_df = object_df.transform(pd.to_numeric, errors='coerce')\n",
    "combined_ofsted_df[object_df.columns]= combined_ofsted_df.filter(object_df.columns).fillna(object_df.median())"
   ]
  },
  {
   "cell_type": "code",
   "execution_count": 33,
   "metadata": {},
   "outputs": [],
   "source": [
    "combined_ofsted_df['RELCHAR'] = combined_ofsted_df['RELCHAR'].fillna('Missing')"
   ]
  },
  {
   "cell_type": "code",
   "execution_count": 34,
   "metadata": {},
   "outputs": [
    {
     "data": {
      "text/plain": [
       "URN                     0\n",
       "LA                      0\n",
       "GENDER                  0\n",
       "RELCHAR                 0\n",
       "PNORG                   0\n",
       "PNORB                   0\n",
       "PSENELSE                0\n",
       "PSENELK                 0\n",
       "PNUMEAL                 0\n",
       "PNUMENGFL               0\n",
       "PNUMUNCFL               0\n",
       "PNUMFSM                 0\n",
       "PNUMFSMEVER             0\n",
       "PERCTOT                 0\n",
       "PPERSABS10              0\n",
       "TPUP                    0\n",
       "P8PUP                   0\n",
       "ATT8SCR                 0\n",
       "P8MEA                   0\n",
       "P8CILOW                 0\n",
       "P8CIUPP                 0\n",
       "EBACCAPS                0\n",
       "PTL2BASICS_94           0\n",
       "PTL2BASICS_95           0\n",
       "PTEBACC_E_PTQ_EE        0\n",
       "PTEBACC_94              0\n",
       "PTEBACC_95              0\n",
       "PT5EM_94                0\n",
       "P8_BANDING              0\n",
       "OVERALL_DESTPER         0\n",
       "NOT_SUSTAINEDPER        0\n",
       "UNKNOWNPER              0\n",
       "OVERALL_DESTPER_DIS     0\n",
       "NOT_SUSTAINEDPER_DIS    0\n",
       "UNKNOWNPER_DIS          0\n",
       "Rating                  0\n",
       "dtype: int64"
      ]
     },
     "execution_count": 34,
     "metadata": {},
     "output_type": "execute_result"
    }
   ],
   "source": [
    "combined_ofsted_df.isna().sum()"
   ]
  },
  {
   "cell_type": "markdown",
   "metadata": {},
   "source": [
    "## Checking that all values in the columns are valid"
   ]
  },
  {
   "cell_type": "markdown",
   "metadata": {},
   "source": [
    "There are some coulmns with negative values which includes:\n",
    "\n",
    "1. **P8MEA(Progress 8 measure after adjustment for extreme scores):** \n",
    "\n",
    "A negative progress score does not mean pupils made no progress, or the school has failed, rather it means pupils in the school made less progress than other pupils across England with similar results at the end of key stage 2.\n",
    "\n",
    "2. **P8CILOW(Progress 8 lower 95% confidence interval for adjusted average)**\n",
    "\n",
    "When the confidence interval straddles zero (sLowCI< 0 <sUppCI), the school’s Progress 8 score is likely to be above or below average, and the result is not statistically significant\n",
    "\n",
    "3. **P8CIUPP(Progress 8 upper 95% confidence interval for adjusted average)**\n",
    "\n",
    "When a school has their upper confidence interval limit lower than zero (sUppCI< 0), the school’s Progress 8 score is below average and the result is statistically significant"
   ]
  },
  {
   "cell_type": "markdown",
   "metadata": {},
   "source": [
    "## Sanity checks"
   ]
  },
  {
   "cell_type": "markdown",
   "metadata": {},
   "source": [
    "### General abbreviations:\n",
    "\n",
    "1) NEW\tNew institution\t\t\t\t\t\t\t\t\t\t\t\t\t\t\t\t\n",
    "2) NE\tNo entries: the school or college did not enter any pupils or students for the qualifications covered by the measure\t\t\t\t\t\t\t\t\t\t\t\t\t\t\t\t\n",
    "3) NA\tNot applicable: figures are either not available for the year in question, or the data field is not applicable to this school or college\t\t\t\t\t\t\t\t\t\t\t\t\t\t\t\t\n",
    "4) SUPP\tSuppressed: In certain circumstances we will suppress an establishment's data. This is usually when there are 5 or fewer pupils or students covered by the measure (10 in the case of destination measures)\t\t\t\t\t\t\t\t\t\t\t\t\t\t\t\t\n",
    "5) NP\tNot published: for example, we do not publish Progress 8 data for independent schools and independent special schools, or breakdowns by disadvantaged and other pupils for independent schools, independent special schools and non-maintained special schools\t\t\t\t\t\t\t\t\t\t\t\t\t\t\t\t\n",
    "6) LOWCOV\tLow coverage: shown for the ‘value added’ measure and coverage indicator where schools have less than 50% of pupils included in calculation of the measure\t\t\t\t\t\t\t\t\t\t\t\t\t\t\t\t\n",
    "7) SP\tSmall percentage: the number is between 0% and 0.5%\t\t\t\t\t\t\t\t\t\t\t\t\t\t\t\t\n",
    "8) RE\tRedacted: of a reliable estimate and therefore don’t provide a fair measure of performance. For transparency, we publish the headline information for these providers separately in the national achievement rates tables"
   ]
  },
  {
   "cell_type": "markdown",
   "metadata": {},
   "source": [
    "**TEST : 1**\n",
    "\n",
    "**PNUMEAL** (pupils where English not first language)\n",
    "\n",
    "**PNUMENGFL** (pupils with English first language)\n",
    "\n",
    "**PNUMUNCFL** (pupils where first language is unclassified)\n",
    "\n",
    "add to 100 for all rows"
   ]
  },
  {
   "cell_type": "code",
   "execution_count": 35,
   "metadata": {},
   "outputs": [
    {
     "data": {
      "text/html": [
       "<div>\n",
       "<style scoped>\n",
       "    .dataframe tbody tr th:only-of-type {\n",
       "        vertical-align: middle;\n",
       "    }\n",
       "\n",
       "    .dataframe tbody tr th {\n",
       "        vertical-align: top;\n",
       "    }\n",
       "\n",
       "    .dataframe thead th {\n",
       "        text-align: right;\n",
       "    }\n",
       "</style>\n",
       "<table border=\"1\" class=\"dataframe\">\n",
       "  <thead>\n",
       "    <tr style=\"text-align: right;\">\n",
       "      <th></th>\n",
       "      <th>PNUMEAL</th>\n",
       "      <th>PNUMENGFL</th>\n",
       "      <th>PNUMUNCFL</th>\n",
       "    </tr>\n",
       "  </thead>\n",
       "  <tbody>\n",
       "    <tr>\n",
       "      <th>0</th>\n",
       "      <td>15.591941</td>\n",
       "      <td>83.990306</td>\n",
       "      <td>0.418066</td>\n",
       "    </tr>\n",
       "    <tr>\n",
       "      <th>1</th>\n",
       "      <td>15.591941</td>\n",
       "      <td>83.990306</td>\n",
       "      <td>0.418066</td>\n",
       "    </tr>\n",
       "    <tr>\n",
       "      <th>2</th>\n",
       "      <td>15.591941</td>\n",
       "      <td>83.990306</td>\n",
       "      <td>0.418066</td>\n",
       "    </tr>\n",
       "    <tr>\n",
       "      <th>3</th>\n",
       "      <td>73.100000</td>\n",
       "      <td>26.800000</td>\n",
       "      <td>0.100000</td>\n",
       "    </tr>\n",
       "    <tr>\n",
       "      <th>4</th>\n",
       "      <td>38.100000</td>\n",
       "      <td>60.900000</td>\n",
       "      <td>0.900000</td>\n",
       "    </tr>\n",
       "  </tbody>\n",
       "</table>\n",
       "</div>"
      ],
      "text/plain": [
       "     PNUMEAL  PNUMENGFL  PNUMUNCFL\n",
       "0  15.591941  83.990306   0.418066\n",
       "1  15.591941  83.990306   0.418066\n",
       "2  15.591941  83.990306   0.418066\n",
       "3  73.100000  26.800000   0.100000\n",
       "4  38.100000  60.900000   0.900000"
      ]
     },
     "execution_count": 35,
     "metadata": {},
     "output_type": "execute_result"
    }
   ],
   "source": [
    "combined_ofsted_df[['PNUMEAL','PNUMENGFL','PNUMUNCFL']].head()"
   ]
  },
  {
   "cell_type": "code",
   "execution_count": 36,
   "metadata": {},
   "outputs": [
    {
     "data": {
      "text/plain": [
       "count    6396.000000\n",
       "mean      100.000313\n",
       "std         0.026080\n",
       "min        99.900000\n",
       "25%       100.000000\n",
       "50%       100.000000\n",
       "75%       100.000313\n",
       "max       100.100000\n",
       "dtype: float64"
      ]
     },
     "execution_count": 36,
     "metadata": {},
     "output_type": "execute_result"
    }
   ],
   "source": [
    "Total = combined_ofsted_df['PNUMEAL'] + combined_ofsted_df['PNUMENGFL'] + combined_ofsted_df['PNUMUNCFL']\n",
    "Total.describe()"
   ]
  },
  {
   "cell_type": "markdown",
   "metadata": {},
   "source": [
    "**TEST : 2**"
   ]
  },
  {
   "cell_type": "markdown",
   "metadata": {},
   "source": [
    "**OVERALL_DESTPER** (Pupils staying in education or employment for at least two terms after key stage 4 (percentage))\n",
    "\n",
    "**NOT_SUSTAINEDPER** (Pupils not staying in education or employment for at least two terms after key stage 4 (percentage))\n",
    "\n",
    "add to 100 for all rows\n"
   ]
  },
  {
   "cell_type": "code",
   "execution_count": 37,
   "metadata": {},
   "outputs": [
    {
     "data": {
      "text/html": [
       "<div>\n",
       "<style scoped>\n",
       "    .dataframe tbody tr th:only-of-type {\n",
       "        vertical-align: middle;\n",
       "    }\n",
       "\n",
       "    .dataframe tbody tr th {\n",
       "        vertical-align: top;\n",
       "    }\n",
       "\n",
       "    .dataframe thead th {\n",
       "        text-align: right;\n",
       "    }\n",
       "</style>\n",
       "<table border=\"1\" class=\"dataframe\">\n",
       "  <thead>\n",
       "    <tr style=\"text-align: right;\">\n",
       "      <th></th>\n",
       "      <th>OVERALL_DESTPER_DIS</th>\n",
       "      <th>NOT_SUSTAINEDPER_DIS</th>\n",
       "    </tr>\n",
       "  </thead>\n",
       "  <tbody>\n",
       "    <tr>\n",
       "      <th>0</th>\n",
       "      <td>0.9</td>\n",
       "      <td>0.09</td>\n",
       "    </tr>\n",
       "    <tr>\n",
       "      <th>1</th>\n",
       "      <td>0.9</td>\n",
       "      <td>0.09</td>\n",
       "    </tr>\n",
       "    <tr>\n",
       "      <th>2</th>\n",
       "      <td>0.9</td>\n",
       "      <td>0.09</td>\n",
       "    </tr>\n",
       "    <tr>\n",
       "      <th>3</th>\n",
       "      <td>0.89</td>\n",
       "      <td>0.11</td>\n",
       "    </tr>\n",
       "    <tr>\n",
       "      <th>4</th>\n",
       "      <td>0.95</td>\n",
       "      <td>0.04</td>\n",
       "    </tr>\n",
       "  </tbody>\n",
       "</table>\n",
       "</div>"
      ],
      "text/plain": [
       "  OVERALL_DESTPER_DIS NOT_SUSTAINEDPER_DIS\n",
       "0                 0.9                 0.09\n",
       "1                 0.9                 0.09\n",
       "2                 0.9                 0.09\n",
       "3                0.89                 0.11\n",
       "4                0.95                 0.04"
      ]
     },
     "execution_count": 37,
     "metadata": {},
     "output_type": "execute_result"
    }
   ],
   "source": [
    "combined_ofsted_df[['OVERALL_DESTPER_DIS','NOT_SUSTAINEDPER_DIS']].head()"
   ]
  },
  {
   "cell_type": "code",
   "execution_count": 38,
   "metadata": {},
   "outputs": [],
   "source": [
    "## replacing non-numeric values with mean\n",
    "mean = round(combined_ofsted_df['OVERALL_DESTPER_DIS'].transform(pd.to_numeric, errors='coerce').mean(),1)\n",
    "dictMean = {'NEW':mean,'NE': mean,'NA': mean, 'NP': mean, 'SUPP': mean, 'LOWCOV': mean,'SP': mean,'RE': mean}\n",
    "sum1 = combined_ofsted_df['OVERALL_DESTPER_DIS'].replace(dictMean)"
   ]
  },
  {
   "cell_type": "code",
   "execution_count": 39,
   "metadata": {},
   "outputs": [],
   "source": [
    "## replacing non-numeric values with mean\n",
    "mean = round(combined_ofsted_df['NOT_SUSTAINEDPER_DIS'].transform(pd.to_numeric, errors='coerce').mean(),1)\n",
    "dictMean = {'NEW':mean,'NE': mean,'NA': mean, 'NP': mean, 'SUPP': mean, 'LOWCOV': mean,'SP': mean,'RE': mean}\n",
    "sum2 = combined_ofsted_df['NOT_SUSTAINEDPER_DIS'].replace(dictMean)"
   ]
  },
  {
   "cell_type": "code",
   "execution_count": 40,
   "metadata": {},
   "outputs": [
    {
     "data": {
      "text/plain": [
       "count    6396.000000\n",
       "mean       99.042527\n",
       "std         1.643164\n",
       "min        77.000000\n",
       "25%        99.000000\n",
       "50%        99.000000\n",
       "75%       100.000000\n",
       "max       110.000000\n",
       "dtype: float64"
      ]
     },
     "execution_count": 40,
     "metadata": {},
     "output_type": "execute_result"
    }
   ],
   "source": [
    "Total = (sum1 + sum2) * 100\n",
    "Total.describe()"
   ]
  },
  {
   "cell_type": "code",
   "execution_count": 41,
   "metadata": {},
   "outputs": [
    {
     "data": {
      "text/plain": [
       "(6396, 36)"
      ]
     },
     "execution_count": 41,
     "metadata": {},
     "output_type": "execute_result"
    }
   ],
   "source": [
    "combined_ofsted_df.shape"
   ]
  },
  {
   "cell_type": "code",
   "execution_count": 42,
   "metadata": {},
   "outputs": [
    {
     "name": "stdout",
     "output_type": "stream",
     "text": [
      "C:\\Users\\arsal\\opencv\\Scripts\\OFSTED\\data\\raw\n"
     ]
    }
   ],
   "source": [
    "print(os.getcwd())"
   ]
  },
  {
   "cell_type": "code",
   "execution_count": 43,
   "metadata": {},
   "outputs": [],
   "source": [
    "os.chdir('../processed')"
   ]
  },
  {
   "cell_type": "code",
   "execution_count": 44,
   "metadata": {},
   "outputs": [
    {
     "name": "stdout",
     "output_type": "stream",
     "text": [
      "C:\\Users\\arsal\\opencv\\Scripts\\OFSTED\\data\\processed\n"
     ]
    }
   ],
   "source": [
    "print(os.getcwd())"
   ]
  },
  {
   "cell_type": "code",
   "execution_count": 45,
   "metadata": {},
   "outputs": [],
   "source": [
    "# DF TO CSV\n",
    "combined_ofsted_df.to_csv(os.getcwd() + '/ComponentOneData.csv', sep=',',index=False)"
   ]
  }
 ],
 "metadata": {
  "colab": {
   "collapsed_sections": [],
   "name": "Component One Muhammad Arsalan 20100620 .ipynb",
   "provenance": []
  },
  "kernelspec": {
   "display_name": "Python 3",
   "language": "python",
   "name": "python3"
  },
  "language_info": {
   "codemirror_mode": {
    "name": "ipython",
    "version": 3
   },
   "file_extension": ".py",
   "mimetype": "text/x-python",
   "name": "python",
   "nbconvert_exporter": "python",
   "pygments_lexer": "ipython3",
   "version": "3.7.4"
  }
 },
 "nbformat": 4,
 "nbformat_minor": 1
}
